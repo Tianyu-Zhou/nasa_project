{
 "cells": [
  {
   "cell_type": "code",
   "execution_count": 1,
   "metadata": {},
   "outputs": [],
   "source": [
    "import pandas as pd \n",
    "import matplotlib.pyplot as plt \n",
    "import numpy as np\n",
    "import pingouin as pg\n",
    "import plotly.express as px\n",
    "import plotly.graph_objects as go\n",
    "import seaborn as sns \n",
    "from statannot import add_stat_annotation\n",
    "import os\n",
    "import copy\n",
    "import matplotlib.pyplot as plt\n",
    "import matplotlib.image as mpimg \n",
    "from scipy import stats\n",
    "from plotly.subplots import make_subplots\n"
   ]
  },
  {
   "cell_type": "code",
   "execution_count": 2,
   "metadata": {},
   "outputs": [
    {
     "name": "stdout",
     "output_type": "stream",
     "text": [
      "['Sub01_ctrl_HMD.csv', 'Sub01_orig_HMD.csv', 'Sub02_ctrl_HMD.csv', 'Sub02_orig_HMD.csv', 'Sub03_ctrl_HMD.csv', 'Sub03_orig_HMD.csv', 'Sub04_ctrl_HMD.csv', 'Sub04_exp_HMD.csv', 'Sub05_ctrl_HMD.csv', 'Sub05_exp_HMD.csv', 'Sub06_ctrl_HMD.csv', 'Sub06_exp_HMD.csv', 'Sub07_ctrl_HMD.csv', 'Sub07_exp_HMD.csv', 'Sub08_ctrl_HMD.csv', 'Sub08_exp_HMD.csv', 'Sub09_ctrl_HMD.csv', 'Sub09_exp_HMD.csv', 'Sub10_ctrl_HMD.csv', 'Sub10_exp_HMD.csv']\n"
     ]
    },
    {
     "name": "stderr",
     "output_type": "stream",
     "text": [
      "D:\\Tianyu\\software\\anaconda3\\lib\\site-packages\\IPython\\core\\interactiveshell.py:3165: DtypeWarning: Columns (41) have mixed types.Specify dtype option on import or set low_memory=False.\n",
      "  has_raised = await self.run_ast_nodes(code_ast.body, cell_name,\n"
     ]
    }
   ],
   "source": [
    "path1 = 'D:/Tianyu/code/python/nist_phase_1/code/UI_VR_Dataset/'\n",
    "path = path1\n",
    "data_raw=[]\n",
    "print(os.listdir(path))\n",
    "for file_path in os.listdir(path):\n",
    "    t=pd.read_csv(path+file_path,index_col=0)\n",
    "    ##t.rename(columns={'Unnamed: 0': 'Time'}, inplace=True)\n",
    "    data_raw.append(t)\n",
    "participant_num = int(len(data_raw)/2)\n"
   ]
  },
  {
   "cell_type": "code",
   "execution_count": 3,
   "metadata": {},
   "outputs": [
    {
     "name": "stderr",
     "output_type": "stream",
     "text": [
      "D:\\Tianyu\\software\\anaconda3\\lib\\site-packages\\scipy\\stats\\morestats.py:1760: UserWarning: p-value may not be accurate for N > 5000.\n",
      "  warnings.warn(\"p-value may not be accurate for N > 5000.\")\n",
      "D:\\Tianyu\\software\\anaconda3\\lib\\site-packages\\scipy\\stats\\morestats.py:1760: UserWarning: p-value may not be accurate for N > 5000.\n",
      "  warnings.warn(\"p-value may not be accurate for N > 5000.\")\n",
      "D:\\Tianyu\\software\\anaconda3\\lib\\site-packages\\scipy\\stats\\morestats.py:1760: UserWarning: p-value may not be accurate for N > 5000.\n",
      "  warnings.warn(\"p-value may not be accurate for N > 5000.\")\n",
      "D:\\Tianyu\\software\\anaconda3\\lib\\site-packages\\scipy\\stats\\morestats.py:1760: UserWarning: p-value may not be accurate for N > 5000.\n",
      "  warnings.warn(\"p-value may not be accurate for N > 5000.\")\n",
      "D:\\Tianyu\\software\\anaconda3\\lib\\site-packages\\scipy\\stats\\morestats.py:1760: UserWarning: p-value may not be accurate for N > 5000.\n",
      "  warnings.warn(\"p-value may not be accurate for N > 5000.\")\n",
      "D:\\Tianyu\\software\\anaconda3\\lib\\site-packages\\scipy\\stats\\morestats.py:1760: UserWarning: p-value may not be accurate for N > 5000.\n",
      "  warnings.warn(\"p-value may not be accurate for N > 5000.\")\n",
      "D:\\Tianyu\\software\\anaconda3\\lib\\site-packages\\scipy\\stats\\morestats.py:1760: UserWarning: p-value may not be accurate for N > 5000.\n",
      "  warnings.warn(\"p-value may not be accurate for N > 5000.\")\n",
      "D:\\Tianyu\\software\\anaconda3\\lib\\site-packages\\scipy\\stats\\morestats.py:1760: UserWarning: p-value may not be accurate for N > 5000.\n",
      "  warnings.warn(\"p-value may not be accurate for N > 5000.\")\n",
      "D:\\Tianyu\\software\\anaconda3\\lib\\site-packages\\scipy\\stats\\morestats.py:1760: UserWarning: p-value may not be accurate for N > 5000.\n",
      "  warnings.warn(\"p-value may not be accurate for N > 5000.\")\n",
      "D:\\Tianyu\\software\\anaconda3\\lib\\site-packages\\scipy\\stats\\morestats.py:1760: UserWarning: p-value may not be accurate for N > 5000.\n",
      "  warnings.warn(\"p-value may not be accurate for N > 5000.\")\n",
      "D:\\Tianyu\\software\\anaconda3\\lib\\site-packages\\scipy\\stats\\morestats.py:1757: UserWarning: Input data for shapiro has range zero. The results may not be accurate.\n",
      "  warnings.warn(\"Input data for shapiro has range zero. The results \"\n",
      "D:\\Tianyu\\software\\anaconda3\\lib\\site-packages\\scipy\\stats\\morestats.py:1760: UserWarning: p-value may not be accurate for N > 5000.\n",
      "  warnings.warn(\"p-value may not be accurate for N > 5000.\")\n",
      "D:\\Tianyu\\software\\anaconda3\\lib\\site-packages\\scipy\\stats\\morestats.py:1760: UserWarning: p-value may not be accurate for N > 5000.\n",
      "  warnings.warn(\"p-value may not be accurate for N > 5000.\")\n",
      "D:\\Tianyu\\software\\anaconda3\\lib\\site-packages\\scipy\\stats\\morestats.py:1760: UserWarning: p-value may not be accurate for N > 5000.\n",
      "  warnings.warn(\"p-value may not be accurate for N > 5000.\")\n",
      "D:\\Tianyu\\software\\anaconda3\\lib\\site-packages\\scipy\\stats\\morestats.py:1760: UserWarning: p-value may not be accurate for N > 5000.\n",
      "  warnings.warn(\"p-value may not be accurate for N > 5000.\")\n",
      "D:\\Tianyu\\software\\anaconda3\\lib\\site-packages\\scipy\\stats\\morestats.py:1760: UserWarning: p-value may not be accurate for N > 5000.\n",
      "  warnings.warn(\"p-value may not be accurate for N > 5000.\")\n",
      "D:\\Tianyu\\software\\anaconda3\\lib\\site-packages\\scipy\\stats\\morestats.py:1760: UserWarning: p-value may not be accurate for N > 5000.\n",
      "  warnings.warn(\"p-value may not be accurate for N > 5000.\")\n",
      "D:\\Tianyu\\software\\anaconda3\\lib\\site-packages\\scipy\\stats\\morestats.py:1760: UserWarning: p-value may not be accurate for N > 5000.\n",
      "  warnings.warn(\"p-value may not be accurate for N > 5000.\")\n",
      "D:\\Tianyu\\software\\anaconda3\\lib\\site-packages\\scipy\\stats\\morestats.py:1760: UserWarning: p-value may not be accurate for N > 5000.\n",
      "  warnings.warn(\"p-value may not be accurate for N > 5000.\")\n",
      "D:\\Tianyu\\software\\anaconda3\\lib\\site-packages\\scipy\\stats\\morestats.py:1757: UserWarning: Input data for shapiro has range zero. The results may not be accurate.\n",
      "  warnings.warn(\"Input data for shapiro has range zero. The results \"\n",
      "D:\\Tianyu\\software\\anaconda3\\lib\\site-packages\\scipy\\stats\\morestats.py:1760: UserWarning: p-value may not be accurate for N > 5000.\n",
      "  warnings.warn(\"p-value may not be accurate for N > 5000.\")\n",
      "D:\\Tianyu\\software\\anaconda3\\lib\\site-packages\\scipy\\stats\\morestats.py:1757: UserWarning: Input data for shapiro has range zero. The results may not be accurate.\n",
      "  warnings.warn(\"Input data for shapiro has range zero. The results \"\n",
      "D:\\Tianyu\\software\\anaconda3\\lib\\site-packages\\scipy\\stats\\morestats.py:1760: UserWarning: p-value may not be accurate for N > 5000.\n",
      "  warnings.warn(\"p-value may not be accurate for N > 5000.\")\n"
     ]
    },
    {
     "data": {
      "text/plain": [
       "[             W  pval  normal\n",
       " Trend_Sum  1.0   1.0    True,\n",
       "                   W  pval  normal\n",
       " Trend_Sum  0.893645   0.0   False,\n",
       "                   W          pval  normal\n",
       " Trend_Sum  0.994542  2.663526e-30   False,\n",
       "                   W          pval  normal\n",
       " Trend_Sum  0.996648  1.273319e-27   False,\n",
       "                   W          pval  normal\n",
       " Trend_Sum  0.998095  3.023012e-20   False,\n",
       "                   W          pval  normal\n",
       " Trend_Sum  0.995106  3.379788e-33   False,\n",
       "                   W  pval  normal\n",
       " Trend_Sum  0.948855   0.0   False,\n",
       "                   W  pval  normal\n",
       " Trend_Sum  0.978997   0.0   False,\n",
       "              W  pval  normal\n",
       " Trend_Sum  1.0   1.0    True,\n",
       "              W  pval  normal\n",
       " Trend_Sum  1.0   1.0    True]"
      ]
     },
     "execution_count": 3,
     "metadata": {},
     "output_type": "execute_result"
    }
   ],
   "source": [
    "## Test the normality of the data\n",
    "normal_condition = []\n",
    "for i in range(participant_num*2):\n",
    "    normal_condition.append(pg.normality(data_raw[i]['Trend_Sum']))\n",
    "normal_condition[10:20]\n",
    "# ax = pg.qqplot(data_raw[6]['Trend_Sum'],dist='norm')\n",
    "# ax = pg.qqplot(data_raw[7]['Trend_Sum'],dist='norm')\n",
    "## print(pg.multivariate_normality(np.column_stack((data_raw[6]['Trend_Sum'],data_raw[7]['Trend_Sum'])))) ## Too much data, do not use this"
   ]
  },
  {
   "cell_type": "code",
   "execution_count": 4,
   "metadata": {},
   "outputs": [],
   "source": [
    "## Calculate the time of each mission ##\n",
    "mission_time_all = []\n",
    "mission_time_control = []\n",
    "mission_time_test = []\n",
    "mission_time_seperate = []\n",
    "mission_time = []\n",
    "for i in range(participant_num*2):\n",
    "    if i%2 == 0:\n",
    "        mission_time_control.append(len(data_raw[i])/90)\n",
    "    else:\n",
    "        mission_time_test.append(len(data_raw[i])/90)\n",
    "    mission_time_all.append(len(data_raw[i])/90)\n",
    "    if i >=6 :\n",
    "        time_point = data_raw[i][[\"missionTargetName\"]].duplicated()\n",
    "        order = time_point[time_point == False]\n",
    "        for j in range(len(order)-1):\n",
    "            mission_time.append((order.index[j+1] - order.index[j])/90)\n",
    "\n",
    "        mission_time_seperate.append(mission_time)\n",
    "        mission_time = []\n",
    "\n",
    "mission_time_all_df = pd.DataFrame(mission_time_all, columns = [\"Mission_time_all\"])\n",
    "mission_time_all_df['Groups']=np.where(mission_time_all_df.index%2==0, 'Control', 'Test') \n"
   ]
  },
  {
   "cell_type": "code",
   "execution_count": 5,
   "metadata": {},
   "outputs": [
    {
     "data": {
      "text/plain": [
       "[[141.13333333333333, 250.46666666666667],\n",
       " [46.93333333333333, 113.56666666666666, 73.85555555555555],\n",
       " [55.077777777777776,\n",
       "  88.67777777777778,\n",
       "  104.58888888888889,\n",
       "  41.87777777777778],\n",
       " [100.96666666666667, 70.14444444444445, 32.522222222222226],\n",
       " [35.5, 324.06666666666666, 50.27777777777778],\n",
       " [134.2111111111111, 88.15555555555555, 27.033333333333335, 58.18888888888889],\n",
       " [126.52222222222223, 71.07777777777778, 33.94444444444444, 74.73333333333333],\n",
       " [78.2, 286.26666666666665, 61.5],\n",
       " [46.833333333333336,\n",
       "  165.3111111111111,\n",
       "  139.57777777777778,\n",
       "  52.06666666666667],\n",
       " [109.06666666666666, 255.62222222222223, 74.93333333333334],\n",
       " [162.34444444444443, 240.01111111111112, 58.65555555555556],\n",
       " [22.522222222222222, 157.26666666666668, 127.12222222222222, 64.1],\n",
       " [34.44444444444444, 403.05555555555554],\n",
       " [129.3111111111111, 288.23333333333335, 70.4888888888889]]"
      ]
     },
     "execution_count": 5,
     "metadata": {},
     "output_type": "execute_result"
    }
   ],
   "source": [
    "mission_time_seperate"
   ]
  },
  {
   "cell_type": "code",
   "execution_count": 4,
   "metadata": {},
   "outputs": [],
   "source": [
    "data_cogload = []\n",
    "cogload_average = []\n",
    "for i in range(participant_num):\n",
    "    cogload_average.append(np.average(data_raw[i*2][\"Trend_Sum\"]))\n",
    "    cogload_average.append(np.average(data_raw[i*2+1][\"Trend_Sum\"]))\n",
    "    df_cog = pd.concat([data_raw[i*2][[\"Trend_Sum\"]],data_raw[i*2+1][[\"Trend_Sum\"]]],axis=1)\n",
    "    df_cog.columns = [\"CogLoad_Cont_%d\" %(i+1), \"CogLoad_Test_%d\" %(i+1)]\n",
    "    df_cog = df_cog.stack().to_frame()\n",
    "    df_cog.reset_index(inplace=True)\n",
    "    # df_cog.drop([\"FrameID\"],axis=1,inplace=True)\n",
    "    # df_cog.rename({\"level_1\":\"Groups\",\"0\":\"CogLoad\"},axis=1,inplace=True)\n",
    "    df_cog.columns = [\"FrameID\", \"Groups\", \"CogLoad\"]\n",
    "    data_cogload.append(df_cog)"
   ]
  },
  {
   "cell_type": "code",
   "execution_count": 30,
   "metadata": {},
   "outputs": [],
   "source": [
    "cogload_average_control = []\n",
    "cogload_average_test = []\n",
    "for i in range(participant_num):\n",
    "    if cogload_average[i*2] !=0 and cogload_average[i*2+1] !=0:\n",
    "        cogload_average_control.append(cogload_average[i*2])\n",
    "        cogload_average_test.append(cogload_average[i*2+1])\n",
    "cogload_average_control_df = pd.DataFrame(cogload_average_control)\n",
    "cogload_average_control_df[\"Groups\"] = \"Control\"\n",
    "cogload_average_test_df = pd.DataFrame(cogload_average_test)\n",
    "cogload_average_test_df[\"Groups\"] = \"Test\"\n",
    "cogload_average_without_0 = pd.concat([cogload_average_control_df,cogload_average_test_df])\n",
    "cogload_average_without_0.columns = [\"CogLoad\",\"Groups\"]\n",
    "\n",
    "\n"
   ]
  },
  {
   "cell_type": "code",
   "execution_count": 31,
   "metadata": {},
   "outputs": [
    {
     "data": {
      "text/html": [
       "<div>\n",
       "<style scoped>\n",
       "    .dataframe tbody tr th:only-of-type {\n",
       "        vertical-align: middle;\n",
       "    }\n",
       "\n",
       "    .dataframe tbody tr th {\n",
       "        vertical-align: top;\n",
       "    }\n",
       "\n",
       "    .dataframe thead th {\n",
       "        text-align: right;\n",
       "    }\n",
       "</style>\n",
       "<table border=\"1\" class=\"dataframe\">\n",
       "  <thead>\n",
       "    <tr style=\"text-align: right;\">\n",
       "      <th></th>\n",
       "      <th>CogLoad</th>\n",
       "      <th>Groups</th>\n",
       "    </tr>\n",
       "  </thead>\n",
       "  <tbody>\n",
       "    <tr>\n",
       "      <th>0</th>\n",
       "      <td>0.711309</td>\n",
       "      <td>Control</td>\n",
       "    </tr>\n",
       "    <tr>\n",
       "      <th>1</th>\n",
       "      <td>1.212909</td>\n",
       "      <td>Control</td>\n",
       "    </tr>\n",
       "    <tr>\n",
       "      <th>2</th>\n",
       "      <td>0.483921</td>\n",
       "      <td>Control</td>\n",
       "    </tr>\n",
       "    <tr>\n",
       "      <th>3</th>\n",
       "      <td>1.898964</td>\n",
       "      <td>Control</td>\n",
       "    </tr>\n",
       "    <tr>\n",
       "      <th>4</th>\n",
       "      <td>0.793167</td>\n",
       "      <td>Control</td>\n",
       "    </tr>\n",
       "    <tr>\n",
       "      <th>5</th>\n",
       "      <td>0.355080</td>\n",
       "      <td>Control</td>\n",
       "    </tr>\n",
       "    <tr>\n",
       "      <th>6</th>\n",
       "      <td>0.108347</td>\n",
       "      <td>Control</td>\n",
       "    </tr>\n",
       "    <tr>\n",
       "      <th>7</th>\n",
       "      <td>1.462553</td>\n",
       "      <td>Control</td>\n",
       "    </tr>\n",
       "    <tr>\n",
       "      <th>0</th>\n",
       "      <td>0.737903</td>\n",
       "      <td>Test</td>\n",
       "    </tr>\n",
       "    <tr>\n",
       "      <th>1</th>\n",
       "      <td>0.969828</td>\n",
       "      <td>Test</td>\n",
       "    </tr>\n",
       "    <tr>\n",
       "      <th>2</th>\n",
       "      <td>-0.021985</td>\n",
       "      <td>Test</td>\n",
       "    </tr>\n",
       "    <tr>\n",
       "      <th>3</th>\n",
       "      <td>1.589859</td>\n",
       "      <td>Test</td>\n",
       "    </tr>\n",
       "    <tr>\n",
       "      <th>4</th>\n",
       "      <td>0.662683</td>\n",
       "      <td>Test</td>\n",
       "    </tr>\n",
       "    <tr>\n",
       "      <th>5</th>\n",
       "      <td>0.274222</td>\n",
       "      <td>Test</td>\n",
       "    </tr>\n",
       "    <tr>\n",
       "      <th>6</th>\n",
       "      <td>0.391121</td>\n",
       "      <td>Test</td>\n",
       "    </tr>\n",
       "    <tr>\n",
       "      <th>7</th>\n",
       "      <td>1.362315</td>\n",
       "      <td>Test</td>\n",
       "    </tr>\n",
       "  </tbody>\n",
       "</table>\n",
       "</div>"
      ],
      "text/plain": [
       "    CogLoad   Groups\n",
       "0  0.711309  Control\n",
       "1  1.212909  Control\n",
       "2  0.483921  Control\n",
       "3  1.898964  Control\n",
       "4  0.793167  Control\n",
       "5  0.355080  Control\n",
       "6  0.108347  Control\n",
       "7  1.462553  Control\n",
       "0  0.737903     Test\n",
       "1  0.969828     Test\n",
       "2 -0.021985     Test\n",
       "3  1.589859     Test\n",
       "4  0.662683     Test\n",
       "5  0.274222     Test\n",
       "6  0.391121     Test\n",
       "7  1.362315     Test"
      ]
     },
     "execution_count": 31,
     "metadata": {},
     "output_type": "execute_result"
    }
   ],
   "source": [
    "cogload_average_without_0"
   ]
  },
  {
   "cell_type": "code",
   "execution_count": 20,
   "metadata": {},
   "outputs": [
    {
     "name": "stdout",
     "output_type": "stream",
     "text": [
      "          W-val alternative     p-val       RBC  CLES\n",
      "Wilcoxon   26.0   two-sided  0.921875  0.054545  0.51\n",
      "          W-val alternative     p-val       RBC    CLES\n",
      "Wilcoxon    7.0   two-sided  0.148438  0.611111  0.5625\n"
     ]
    }
   ],
   "source": [
    "print(pg.wilcoxon(mission_time_control,mission_time_test,alternative='two-sided'))\n",
    "print(pg.wilcoxon(cogload_average_control,cogload_average_test,alternative='two-sided'))"
   ]
  },
  {
   "cell_type": "code",
   "execution_count": 50,
   "metadata": {},
   "outputs": [
    {
     "name": "stdout",
     "output_type": "stream",
     "text": [
      "         Source  ddof1           H         p-unc\n",
      "Kruskal  Groups      1  112.405024  2.912897e-26\n",
      "         Source  ddof1            H  p-unc\n",
      "Kruskal  Groups      1  4111.150521    0.0\n",
      "         Source  ddof1            H  p-unc\n",
      "Kruskal  Groups      1  6608.329753    0.0\n",
      "         Source  ddof1             H  p-unc\n",
      "Kruskal  Groups      1  16970.370872    0.0\n",
      "         Source  ddof1            H  p-unc\n",
      "Kruskal  Groups      1  1942.392021    0.0\n",
      "         Source  ddof1             H  p-unc\n",
      "Kruskal  Groups      1  56110.375004    0.0\n",
      "         Source  ddof1            H          p-unc\n",
      "Kruskal  Groups      1  1094.423341  5.381985e-240\n",
      "         Source  ddof1           H  p-unc\n",
      "Kruskal  Groups      1  8702.70313    0.0\n",
      "         Source  ddof1            H          p-unc\n",
      "Kruskal  Groups      1  1223.754945  4.194968e-268\n",
      "         Source  ddof1   H  p-unc\n",
      "Kruskal  Groups      1 NaN    NaN\n"
     ]
    },
    {
     "name": "stderr",
     "output_type": "stream",
     "text": [
      "D:\\Tianyu\\software\\anaconda3\\lib\\site-packages\\pingouin\\nonparametric.py:551: RuntimeWarning: invalid value encountered in double_scalars\n",
      "  H /= scipy.stats.tiecorrect(data['rank'].to_numpy())\n"
     ]
    }
   ],
   "source": [
    "for i in range(participant_num):\n",
    "    print(pg.kruskal(data=data_cogload[i],dv=\"CogLoad\",between=\"Groups\",detailed=True))\n"
   ]
  },
  {
   "cell_type": "code",
   "execution_count": 126,
   "metadata": {},
   "outputs": [
    {
     "name": "stdout",
     "output_type": "stream",
     "text": [
      "   Source           SS     DF        MS          F         p-unc       np2\n",
      "0  Groups     7.902383      1  7.902383  64.271918  1.108527e-15  0.001362\n",
      "1  Within  5796.219463  47142  0.122952        NaN           NaN       NaN\n",
      "   Source           SS     DF          MS            F  p-unc      np2\n",
      "0  Groups   684.720565      1  684.720565  4312.907805    0.0  0.08456\n",
      "1  Within  7412.699125  46691    0.158761          NaN    NaN      NaN\n",
      "   Source            SS     DF           MS             F  p-unc       np2\n",
      "0  Groups   5343.124280      1  5343.124280  12585.876418    0.0  0.130852\n",
      "1  Within  35490.139001  83598     0.424533           NaN    NaN       NaN\n",
      "   Source            SS     DF           MS             F  p-unc       np2\n",
      "0  Groups   2000.918960      1  2000.918960  15358.152054    0.0  0.150389\n",
      "1  Within  11304.077011  86765     0.130284           NaN    NaN       NaN\n",
      "   Source           SS     DF          MS           F  p-unc       np2\n",
      "0  Groups   222.883592      1  222.883592  1532.27214    0.0  0.028432\n",
      "1  Within  7616.406679  52361    0.145460         NaN    NaN       NaN\n",
      "   Source            SS     DF            MS              F  p-unc       np2\n",
      "0  Groups  32359.639152      1  32359.639152  550705.085704    0.0  0.895048\n",
      "1  Within   3794.451427  64575      0.058760            NaN    NaN       NaN\n",
      "   Source          SS     DF          MS           F          p-unc       np2\n",
      "0  Groups   104.84947      1  104.849470  980.409882  1.212361e-213  0.014658\n",
      "1  Within  7048.39285  65907    0.106945         NaN            NaN       NaN\n",
      "   Source            SS     DF           MS            F  p-unc       np2\n",
      "0  Groups   1514.839768      1  1514.839768  9810.179768    0.0  0.114439\n",
      "1  Within  11722.266961  75914     0.154415          NaN    NaN       NaN\n",
      "   Source            SS     DF          MS            F          p-unc  \\\n",
      "0  Groups    185.920262      1  185.920262  1077.825288  1.022885e-234   \n",
      "1  Within  12918.032859  74889    0.172496          NaN            NaN   \n",
      "\n",
      "        np2  \n",
      "0  0.014188  \n",
      "1       NaN  \n"
     ]
    }
   ],
   "source": [
    "for i in range(participant_num):\n",
    "    print(pg.anova(data=data_cogload[i],dv=\"CogLoad\",between=\"Groups\",detailed=True))"
   ]
  },
  {
   "cell_type": "code",
   "execution_count": 38,
   "metadata": {},
   "outputs": [
    {
     "data": {
      "text/html": [
       "<div>\n",
       "<style scoped>\n",
       "    .dataframe tbody tr th:only-of-type {\n",
       "        vertical-align: middle;\n",
       "    }\n",
       "\n",
       "    .dataframe tbody tr th {\n",
       "        vertical-align: top;\n",
       "    }\n",
       "\n",
       "    .dataframe thead th {\n",
       "        text-align: right;\n",
       "    }\n",
       "</style>\n",
       "<table border=\"1\" class=\"dataframe\">\n",
       "  <thead>\n",
       "    <tr style=\"text-align: right;\">\n",
       "      <th></th>\n",
       "      <th>Mission_time_all</th>\n",
       "      <th>Groups</th>\n",
       "    </tr>\n",
       "  </thead>\n",
       "  <tbody>\n",
       "    <tr>\n",
       "      <th>0</th>\n",
       "      <td>51449</td>\n",
       "      <td>Control</td>\n",
       "    </tr>\n",
       "    <tr>\n",
       "      <th>1</th>\n",
       "      <td>35318</td>\n",
       "      <td>Test</td>\n",
       "    </tr>\n",
       "    <tr>\n",
       "      <th>2</th>\n",
       "      <td>26125</td>\n",
       "      <td>Control</td>\n",
       "    </tr>\n",
       "    <tr>\n",
       "      <th>3</th>\n",
       "      <td>26238</td>\n",
       "      <td>Test</td>\n",
       "    </tr>\n",
       "    <tr>\n",
       "      <th>4</th>\n",
       "      <td>36890</td>\n",
       "      <td>Control</td>\n",
       "    </tr>\n",
       "    <tr>\n",
       "      <th>5</th>\n",
       "      <td>27687</td>\n",
       "      <td>Test</td>\n",
       "    </tr>\n",
       "    <tr>\n",
       "      <th>6</th>\n",
       "      <td>27568</td>\n",
       "      <td>Control</td>\n",
       "    </tr>\n",
       "    <tr>\n",
       "      <th>7</th>\n",
       "      <td>38341</td>\n",
       "      <td>Test</td>\n",
       "    </tr>\n",
       "    <tr>\n",
       "      <th>8</th>\n",
       "      <td>36346</td>\n",
       "      <td>Control</td>\n",
       "    </tr>\n",
       "    <tr>\n",
       "      <th>9</th>\n",
       "      <td>39570</td>\n",
       "      <td>Test</td>\n",
       "    </tr>\n",
       "    <tr>\n",
       "      <th>10</th>\n",
       "      <td>41496</td>\n",
       "      <td>Control</td>\n",
       "    </tr>\n",
       "    <tr>\n",
       "      <th>11</th>\n",
       "      <td>33395</td>\n",
       "      <td>Test</td>\n",
       "    </tr>\n",
       "    <tr>\n",
       "      <th>12</th>\n",
       "      <td>39379</td>\n",
       "      <td>Control</td>\n",
       "    </tr>\n",
       "    <tr>\n",
       "      <th>13</th>\n",
       "      <td>43927</td>\n",
       "      <td>Test</td>\n",
       "    </tr>\n",
       "  </tbody>\n",
       "</table>\n",
       "</div>"
      ],
      "text/plain": [
       "    Mission_time_all   Groups\n",
       "0              51449  Control\n",
       "1              35318     Test\n",
       "2              26125  Control\n",
       "3              26238     Test\n",
       "4              36890  Control\n",
       "5              27687     Test\n",
       "6              27568  Control\n",
       "7              38341     Test\n",
       "8              36346  Control\n",
       "9              39570     Test\n",
       "10             41496  Control\n",
       "11             33395     Test\n",
       "12             39379  Control\n",
       "13             43927     Test"
      ]
     },
     "execution_count": 38,
     "metadata": {},
     "output_type": "execute_result"
    }
   ],
   "source": [
    "mission_time_all_df"
   ]
  },
  {
   "cell_type": "code",
   "execution_count": 34,
   "metadata": {},
   "outputs": [
    {
     "name": "stdout",
     "output_type": "stream",
     "text": [
      "p-value annotation legend:\n",
      "ns: 5.00e-02 < p <= 1.00e+00\n",
      "*: 1.00e-02 < p <= 5.00e-02\n",
      "**: 1.00e-03 < p <= 1.00e-02\n",
      "***: 1.00e-04 < p <= 1.00e-03\n",
      "****: p <= 1.00e-04\n",
      "\n",
      "Using zero_method  pratt\n",
      "Control v.s. Test: Wilcoxon test (paired samples), P_val=1.484e-01 stat=7.000e+00\n",
      "p-value annotation legend:\n",
      "ns: 5.00e-02 < p <= 1.00e+00\n",
      "*: 1.00e-02 < p <= 5.00e-02\n",
      "**: 1.00e-03 < p <= 1.00e-02\n",
      "***: 1.00e-04 < p <= 1.00e-03\n",
      "****: p <= 1.00e-04\n",
      "\n",
      "Using zero_method  pratt\n",
      "Control v.s. Test: Wilcoxon test (paired samples), P_val=1.484e-01 stat=7.000e+00\n"
     ]
    },
    {
     "data": {
      "image/png": "[encoded data removed]",
      "text/plain": [
       "<Figure size 900x300 with 2 Axes>"
      ]
     },
     "metadata": {},
     "output_type": "display_data"
    }
   ],
   "source": [
    "### pair analysis visualization \n",
    "\n",
    "sns.set(style = 'whitegrid')\n",
    "\n",
    "# participant_order = 2\n",
    "# data = copy.deepcopy(data_cogload[participant_order])\n",
    "data = cogload_average_without_0\n",
    "x = 'Groups'\n",
    "y = 'CogLoad'\n",
    "hue = 'Groups'\n",
    "# order = [\"CogLoad_Cont_%d\" %(participant_order+1), \"CogLoad_Test_%d\" %(participant_order+1)]\n",
    "order = [\"Control\", \"Test\"]\n",
    "\n",
    "# data = copy.deepcopy(mission_time_all_df)\n",
    "# x = 'Groups'\n",
    "# y = 'Mission_time_all'\n",
    "# hue = 'Groups'\n",
    "# order = [\"Control\", \"Test\"]\n",
    "\n",
    "\n",
    "\n",
    "## subplot\n",
    "fig, axes = plt.subplots(1,2, figsize=(9,3), dpi=100)\n",
    "# fig.suptitle('Bigger 1 row x 2 columns axes with no data')\n",
    "# axes[0].set_title('Paired Analysis (Greater)')\n",
    "\n",
    "if 1:\n",
    "   axes[0] = sns.boxplot(ax = axes[0], data=data, x=x, y=y, order=order)\n",
    "   test_results = add_stat_annotation(ax=axes[0], data=data, x=x, y=y, order=order,\n",
    "                                    box_pairs=[(order[0], order[1])],\n",
    "                                    # test='Kruskal', \n",
    "                                    test='Wilcoxon', \n",
    "                                    comparisons_correction=None, \n",
    "                                    text_format='star', loc='outside', verbose=2,\n",
    "                                 #    line_offset_to_box= -1,\n",
    "                                 #    line_offset= 1,\n",
    "                                 #    text_offset = -1,\n",
    "                                    #   stats_params={'alternative': 'greater'}\n",
    "                                    )\n",
    "   # axes[0].set(xlabel='Paired analysis between conditions (Greater)', ylabel='VRSQ score')\n",
    "   # axes[0].set(xlabel='Kruskal-Wallis analysis between groups', ylabel='Cognitive Load')\n",
    "   # axes[0].set(xlabel='Wilcoxon analysis between groups', ylabel='Mission time (s)')\n",
    "   axes[0].set(xlabel='Wilcoxon analysis between groups', ylabel='Average cognitive load')\n",
    "\n",
    "if 1:\n",
    "   axes[1] = sns.barplot(ax = axes[1],data=data, x=x, y=y,\n",
    "                  palette = 'mako',\n",
    "                  linewidth=1.5,\n",
    "                  errcolor=\"0.2\",errwidth =1.5,\n",
    "                  edgecolor=\".2\",\n",
    "                  # facecolor=(1, 1, 1, 0)\n",
    "                  )\n",
    "   test_results = add_stat_annotation(ax=axes[1], data=data, x=x, y=y,\n",
    "                                    box_pairs=[(order[0], order[1])],\n",
    "                                    # test='Kruskal', \n",
    "                                    test='Wilcoxon', \n",
    "                                    comparisons_correction=None, \n",
    "                                    text_format='star', loc='outside', verbose=1,\n",
    "                                 #    line_offset_to_box= -0.5,\n",
    "                                 #    line_offset= -0.5,\n",
    "                                    #   stats_params={'alternative': 'greater'}\n",
    "                                    )\n",
    "   # axes[1].set(xlabel='Paired analysis between conditions (Greater)', ylabel='')\n",
    "   axes[1].set(xlabel='Wilcoxon analysis between groups', ylabel='')"
   ]
  },
  {
   "cell_type": "code",
   "execution_count": 24,
   "metadata": {},
   "outputs": [],
   "source": [
    "### sample from raw data \n",
    "rate = 20\n",
    "data_image = copy.deepcopy(data_raw[13])\n",
    "subset = data_image[::rate]\n",
    "## 3D Stastic ###\n",
    "if 0:\n",
    "    df = subset\n",
    "\n",
    "    fig = px.scatter_3d(df, x='CameraPosX', y='CameraPosY', z='CameraPosZ',\n",
    "                color='Trend_Sum',color_continuous_scale=px.colors.sequential.Viridis,symbol='light_state',symbol_sequence=[\"cross\",\"circle\"],opacity=0.8,)\n",
    "    fig.update_traces(marker_size = 3)\n",
    "\n",
    "    fig.show()"
   ]
  },
  {
   "cell_type": "code",
   "execution_count": null,
   "metadata": {},
   "outputs": [],
   "source": []
  },
  {
   "cell_type": "code",
   "execution_count": 34,
   "metadata": {},
   "outputs": [
    {
     "name": "stdout",
     "output_type": "stream",
     "text": [
      "[0.9732996365999999, 1.732913276, 1.0826214594000003, 1.66654815]\n",
      "[1.0576719648000001, 1.424643804, 1.466074776, 1.663501132]\n"
     ]
    }
   ],
   "source": [
    "# TEST UI CHANGE #\n",
    "data_light = copy.deepcopy(data_raw[11])\n",
    "data_light[\"state_change\"] = data_light[\"light_state\"].diff()\n",
    "column_changes = data_light[data_light['state_change'] != 0]\n",
    "UI_dark_list = column_changes[\"light_state\"][column_changes[\"light_state\"]==False].index\n",
    "window = 500\n",
    "cog_before = []\n",
    "cog_after = []\n",
    "for i in range(len(UI_dark_list)):\n",
    "    cog_before.append(np.average(data_light[\"Trend_Sum\"][UI_dark_list[i]-window:UI_dark_list[i]]))\n",
    "    cog_after.append(np.average(data_light[\"Trend_Sum\"][UI_dark_list[i]:UI_dark_list[i]+window]))\n",
    "print(cog_before)\n",
    "print(cog_after)"
   ]
  },
  {
   "cell_type": "code",
   "execution_count": 32,
   "metadata": {},
   "outputs": [
    {
     "data": {
      "image/png": "[encoded data removed]",
      "text/plain": [
       "<Figure size 432x288 with 1 Axes>"
      ]
     },
     "metadata": {},
     "output_type": "display_data"
    }
   ],
   "source": [
    "i = 0\n",
    "plt.plot(data_light[\"Trend_Sum\"][UI_dark_list[i]-window:UI_dark_list[i]+window])\n",
    "plt.axvline(x=UI_dark_list[i],c=\"r\")\n",
    "plt.show()"
   ]
  },
  {
   "cell_type": "code",
   "execution_count": 33,
   "metadata": {},
   "outputs": [
    {
     "name": "stdout",
     "output_type": "stream",
     "text": [
      "p-value annotation legend:\n",
      "ns: 5.00e-02 < p <= 1.00e+00\n",
      "*: 1.00e-02 < p <= 5.00e-02\n",
      "**: 1.00e-03 < p <= 1.00e-02\n",
      "***: 1.00e-04 < p <= 1.00e-03\n",
      "****: p <= 1.00e-04\n",
      "\n",
      "Before_UI_dark v.s. After_UI_dark: Kruskal-Wallis paired samples, P_val=5.499e-92 stat=4.138e+02\n"
     ]
    },
    {
     "data": {
      "image/png": "[encoded data removed]",
      "text/plain": [
       "<Figure size 500x300 with 1 Axes>"
      ]
     },
     "metadata": {},
     "output_type": "display_data"
    }
   ],
   "source": [
    "control_df = pd.DataFrame(data_light[\"Trend_Sum\"][UI_dark_list[i]-window:UI_dark_list[i]])\n",
    "test_df = pd.DataFrame(data_light[\"Trend_Sum\"][UI_dark_list[i]:UI_dark_list[i]+window])\n",
    "group_1 = \"Before_UI_dark\"\n",
    "group_2 = \"After_UI_dark\"\n",
    "\n",
    "control_df[\"Groups\"] = group_1\n",
    "test_df[\"Groups\"] = group_2\n",
    "\n",
    "combine_df = pd.concat([control_df,test_df])\n",
    "combine_df.columns = [\"CogLoad\",\"Groups\"]\n",
    "\n",
    "\n",
    "data = combine_df\n",
    "x = 'Groups'\n",
    "y = 'CogLoad'\n",
    "hue = 'Groups'\n",
    "order = [group_1, group_2]\n",
    "\n",
    "sns.set(style = 'whitegrid')\n",
    "fig, axes = plt.subplots(1,1, figsize=(5,3), dpi=100)\n",
    "\n",
    "if 1:\n",
    "   axes = sns.boxplot(ax = axes, data=data, x=x, y=y, order=order)\n",
    "   test_results = add_stat_annotation(ax=axes, data=data, x=x, y=y, order=order,\n",
    "                                    box_pairs=[(order[0], order[1])],\n",
    "                                    test='Kruskal', \n",
    "                                    # test='Wilcoxon', \n",
    "                                    comparisons_correction=None, \n",
    "                                    text_format='star', loc='outside', verbose=2,\n",
    "                                    #   stats_params={'alternative': 'greater'}\n",
    "                                    )\n",
    "   # axes.set(xlabel='Paired analysis between conditions (Greater)', ylabel='VRSQ score')\n",
    "   axes.set(xlabel='Kruskal-Wallis analysis between groups', ylabel='Cognitive Load')\n",
    "   # axes.set(xlabel='Wilcoxon analysis between groups', ylabel='Mission time (s)')\n",
    "   # axes.set(xlabel='Wilcoxon analysis between groups', ylabel='Average cognitive load')\n"
   ]
  },
  {
   "cell_type": "code",
   "execution_count": 38,
   "metadata": {},
   "outputs": [
    {
     "data": {
      "text/html": [
       "<div>\n",
       "<style scoped>\n",
       "    .dataframe tbody tr th:only-of-type {\n",
       "        vertical-align: middle;\n",
       "    }\n",
       "\n",
       "    .dataframe tbody tr th {\n",
       "        vertical-align: top;\n",
       "    }\n",
       "\n",
       "    .dataframe thead th {\n",
       "        text-align: right;\n",
       "    }\n",
       "</style>\n",
       "<table border=\"1\" class=\"dataframe\">\n",
       "  <thead>\n",
       "    <tr style=\"text-align: right;\">\n",
       "      <th></th>\n",
       "      <th>sepal_length</th>\n",
       "      <th>sepal_width</th>\n",
       "      <th>petal_length</th>\n",
       "      <th>petal_width</th>\n",
       "      <th>species</th>\n",
       "      <th>species_id</th>\n",
       "    </tr>\n",
       "  </thead>\n",
       "  <tbody>\n",
       "    <tr>\n",
       "      <th>0</th>\n",
       "      <td>5.1</td>\n",
       "      <td>3.5</td>\n",
       "      <td>1.4</td>\n",
       "      <td>0.2</td>\n",
       "      <td>setosa</td>\n",
       "      <td>1</td>\n",
       "    </tr>\n",
       "    <tr>\n",
       "      <th>1</th>\n",
       "      <td>4.9</td>\n",
       "      <td>3.0</td>\n",
       "      <td>1.4</td>\n",
       "      <td>0.2</td>\n",
       "      <td>setosa</td>\n",
       "      <td>1</td>\n",
       "    </tr>\n",
       "    <tr>\n",
       "      <th>2</th>\n",
       "      <td>4.7</td>\n",
       "      <td>3.2</td>\n",
       "      <td>1.3</td>\n",
       "      <td>0.2</td>\n",
       "      <td>setosa</td>\n",
       "      <td>1</td>\n",
       "    </tr>\n",
       "    <tr>\n",
       "      <th>3</th>\n",
       "      <td>4.6</td>\n",
       "      <td>3.1</td>\n",
       "      <td>1.5</td>\n",
       "      <td>0.2</td>\n",
       "      <td>setosa</td>\n",
       "      <td>1</td>\n",
       "    </tr>\n",
       "    <tr>\n",
       "      <th>4</th>\n",
       "      <td>5.0</td>\n",
       "      <td>3.6</td>\n",
       "      <td>1.4</td>\n",
       "      <td>0.2</td>\n",
       "      <td>setosa</td>\n",
       "      <td>1</td>\n",
       "    </tr>\n",
       "    <tr>\n",
       "      <th>...</th>\n",
       "      <td>...</td>\n",
       "      <td>...</td>\n",
       "      <td>...</td>\n",
       "      <td>...</td>\n",
       "      <td>...</td>\n",
       "      <td>...</td>\n",
       "    </tr>\n",
       "    <tr>\n",
       "      <th>145</th>\n",
       "      <td>6.7</td>\n",
       "      <td>3.0</td>\n",
       "      <td>5.2</td>\n",
       "      <td>2.3</td>\n",
       "      <td>virginica</td>\n",
       "      <td>3</td>\n",
       "    </tr>\n",
       "    <tr>\n",
       "      <th>146</th>\n",
       "      <td>6.3</td>\n",
       "      <td>2.5</td>\n",
       "      <td>5.0</td>\n",
       "      <td>1.9</td>\n",
       "      <td>virginica</td>\n",
       "      <td>3</td>\n",
       "    </tr>\n",
       "    <tr>\n",
       "      <th>147</th>\n",
       "      <td>6.5</td>\n",
       "      <td>3.0</td>\n",
       "      <td>5.2</td>\n",
       "      <td>2.0</td>\n",
       "      <td>virginica</td>\n",
       "      <td>3</td>\n",
       "    </tr>\n",
       "    <tr>\n",
       "      <th>148</th>\n",
       "      <td>6.2</td>\n",
       "      <td>3.4</td>\n",
       "      <td>5.4</td>\n",
       "      <td>2.3</td>\n",
       "      <td>virginica</td>\n",
       "      <td>3</td>\n",
       "    </tr>\n",
       "    <tr>\n",
       "      <th>149</th>\n",
       "      <td>5.9</td>\n",
       "      <td>3.0</td>\n",
       "      <td>5.1</td>\n",
       "      <td>1.8</td>\n",
       "      <td>virginica</td>\n",
       "      <td>3</td>\n",
       "    </tr>\n",
       "  </tbody>\n",
       "</table>\n",
       "<p>150 rows × 6 columns</p>\n",
       "</div>"
      ],
      "text/plain": [
       "     sepal_length  sepal_width  petal_length  petal_width    species  \\\n",
       "0             5.1          3.5           1.4          0.2     setosa   \n",
       "1             4.9          3.0           1.4          0.2     setosa   \n",
       "2             4.7          3.2           1.3          0.2     setosa   \n",
       "3             4.6          3.1           1.5          0.2     setosa   \n",
       "4             5.0          3.6           1.4          0.2     setosa   \n",
       "..            ...          ...           ...          ...        ...   \n",
       "145           6.7          3.0           5.2          2.3  virginica   \n",
       "146           6.3          2.5           5.0          1.9  virginica   \n",
       "147           6.5          3.0           5.2          2.0  virginica   \n",
       "148           6.2          3.4           5.4          2.3  virginica   \n",
       "149           5.9          3.0           5.1          1.8  virginica   \n",
       "\n",
       "     species_id  \n",
       "0             1  \n",
       "1             1  \n",
       "2             1  \n",
       "3             1  \n",
       "4             1  \n",
       "..          ...  \n",
       "145           3  \n",
       "146           3  \n",
       "147           3  \n",
       "148           3  \n",
       "149           3  \n",
       "\n",
       "[150 rows x 6 columns]"
      ]
     },
     "execution_count": 38,
     "metadata": {},
     "output_type": "execute_result"
    }
   ],
   "source": [
    "df = px.data.iris()\n",
    "df"
   ]
  },
  {
   "cell_type": "code",
   "execution_count": null,
   "metadata": {},
   "outputs": [],
   "source": []
  },
  {
   "cell_type": "code",
   "execution_count": null,
   "metadata": {},
   "outputs": [],
   "source": []
  },
  {
   "cell_type": "code",
   "execution_count": null,
   "metadata": {},
   "outputs": [],
   "source": []
  },
  {
   "cell_type": "code",
   "execution_count": 97,
   "metadata": {},
   "outputs": [
    {
     "data": {
      "text/html": [
       "<div>\n",
       "<style scoped>\n",
       "    .dataframe tbody tr th:only-of-type {\n",
       "        vertical-align: middle;\n",
       "    }\n",
       "\n",
       "    .dataframe tbody tr th {\n",
       "        vertical-align: top;\n",
       "    }\n",
       "\n",
       "    .dataframe thead th {\n",
       "        text-align: right;\n",
       "    }\n",
       "</style>\n",
       "<table border=\"1\" class=\"dataframe\">\n",
       "  <thead>\n",
       "    <tr style=\"text-align: right;\">\n",
       "      <th></th>\n",
       "      <th>Scores</th>\n",
       "      <th>Time</th>\n",
       "      <th>Group</th>\n",
       "      <th>Subject</th>\n",
       "    </tr>\n",
       "  </thead>\n",
       "  <tbody>\n",
       "    <tr>\n",
       "      <th>0</th>\n",
       "      <td>5.971435</td>\n",
       "      <td>August</td>\n",
       "      <td>Control</td>\n",
       "      <td>0</td>\n",
       "    </tr>\n",
       "    <tr>\n",
       "      <th>1</th>\n",
       "      <td>4.309024</td>\n",
       "      <td>August</td>\n",
       "      <td>Control</td>\n",
       "      <td>1</td>\n",
       "    </tr>\n",
       "    <tr>\n",
       "      <th>2</th>\n",
       "      <td>6.932707</td>\n",
       "      <td>August</td>\n",
       "      <td>Control</td>\n",
       "      <td>2</td>\n",
       "    </tr>\n",
       "    <tr>\n",
       "      <th>3</th>\n",
       "      <td>5.187348</td>\n",
       "      <td>August</td>\n",
       "      <td>Control</td>\n",
       "      <td>3</td>\n",
       "    </tr>\n",
       "    <tr>\n",
       "      <th>4</th>\n",
       "      <td>4.779411</td>\n",
       "      <td>August</td>\n",
       "      <td>Control</td>\n",
       "      <td>4</td>\n",
       "    </tr>\n",
       "    <tr>\n",
       "      <th>...</th>\n",
       "      <td>...</td>\n",
       "      <td>...</td>\n",
       "      <td>...</td>\n",
       "      <td>...</td>\n",
       "    </tr>\n",
       "    <tr>\n",
       "      <th>175</th>\n",
       "      <td>6.176981</td>\n",
       "      <td>June</td>\n",
       "      <td>Meditation</td>\n",
       "      <td>55</td>\n",
       "    </tr>\n",
       "    <tr>\n",
       "      <th>176</th>\n",
       "      <td>8.523692</td>\n",
       "      <td>June</td>\n",
       "      <td>Meditation</td>\n",
       "      <td>56</td>\n",
       "    </tr>\n",
       "    <tr>\n",
       "      <th>177</th>\n",
       "      <td>6.522273</td>\n",
       "      <td>June</td>\n",
       "      <td>Meditation</td>\n",
       "      <td>57</td>\n",
       "    </tr>\n",
       "    <tr>\n",
       "      <th>178</th>\n",
       "      <td>4.990568</td>\n",
       "      <td>June</td>\n",
       "      <td>Meditation</td>\n",
       "      <td>58</td>\n",
       "    </tr>\n",
       "    <tr>\n",
       "      <th>179</th>\n",
       "      <td>7.822986</td>\n",
       "      <td>June</td>\n",
       "      <td>Meditation</td>\n",
       "      <td>59</td>\n",
       "    </tr>\n",
       "  </tbody>\n",
       "</table>\n",
       "<p>180 rows × 4 columns</p>\n",
       "</div>"
      ],
      "text/plain": [
       "       Scores    Time       Group  Subject\n",
       "0    5.971435  August     Control        0\n",
       "1    4.309024  August     Control        1\n",
       "2    6.932707  August     Control        2\n",
       "3    5.187348  August     Control        3\n",
       "4    4.779411  August     Control        4\n",
       "..        ...     ...         ...      ...\n",
       "175  6.176981    June  Meditation       55\n",
       "176  8.523692    June  Meditation       56\n",
       "177  6.522273    June  Meditation       57\n",
       "178  4.990568    June  Meditation       58\n",
       "179  7.822986    June  Meditation       59\n",
       "\n",
       "[180 rows x 4 columns]"
      ]
     },
     "execution_count": 97,
     "metadata": {},
     "output_type": "execute_result"
    }
   ],
   "source": [
    "test = pg.read_dataset('mixed_anova')\n",
    "test"
   ]
  },
  {
   "cell_type": "code",
   "execution_count": null,
   "metadata": {},
   "outputs": [],
   "source": []
  },
  {
   "cell_type": "code",
   "execution_count": null,
   "metadata": {},
   "outputs": [],
   "source": []
  },
  {
   "cell_type": "code",
   "execution_count": null,
   "metadata": {},
   "outputs": [],
   "source": []
  },
  {
   "cell_type": "code",
   "execution_count": null,
   "metadata": {},
   "outputs": [],
   "source": []
  },
  {
   "cell_type": "code",
   "execution_count": 3,
   "metadata": {},
   "outputs": [],
   "source": [
    "### For NASATLX QZ ###\n",
    "if 0:\n",
    "    ### convert cat into int  with orders ###\n",
    "    ordered_satisfaction  = ['None', 'Slight', 'Moderate', 'Severe']\n",
    "    df_c= data_raw.iloc[:, 0:37]\n",
    "\n",
    "    for x in range(1,37):\n",
    "        df_c.iloc[:, x] = pd.Categorical(df_c.iloc[:, x], categories=ordered_satisfaction, ordered=True)\n",
    "\n",
    "    cat_columns = df_c.select_dtypes(['category']).columns\n",
    "    df_c[cat_columns] = df_c[cat_columns].apply(lambda x: x.cat.codes)\n",
    "    # print(df_c.iloc[:, 2])\n",
    "\n",
    "    df_c.head()\n",
    "\n",
    "\n",
    "    ### get sum of each conditions ###\n",
    "    df_c['Control'] = df_c.iloc[:, 1:10].sum(axis=1)\n",
    "    df_c['Haptic'] = df_c.iloc[:, 10:19].sum(axis=1)\n",
    "    df_c['Visual'] = df_c.iloc[:, 19:28].sum(axis=1)\n",
    "    df_c['Multi'] = df_c.iloc[:, 28:37].sum(axis=1)\n",
    "    # df_c.to_csv('./Survey/1-35/Clean/ResultsSpatial31.csv')\n",
    "\n",
    "\n",
    "    TB = df_c['Control']\n",
    "    TH = df_c['Haptic']\n",
    "    TV = df_c['Visual']\n",
    "    TM = df_c['Multi']\n",
    "    print(pg.wilcoxon(TB, TH, tail='one-sided'))\n",
    "    print(pg.wilcoxon(TB, TV, tail='one-sided'))\n",
    "    print(pg.wilcoxon(TB, TM, tail='one-sided'))\n",
    "    print(pg.wilcoxon(TH, TV, tail='one-sided'))\n",
    "    print(pg.wilcoxon(TH, TM, tail='one-sided'))\n",
    "    print(pg.wilcoxon(TV, TM, tail='one-sided'))\n"
   ]
  },
  {
   "cell_type": "code",
   "execution_count": null,
   "metadata": {},
   "outputs": [],
   "source": []
  },
  {
   "cell_type": "code",
   "execution_count": 73,
   "metadata": {},
   "outputs": [
    {
     "name": "stdout",
     "output_type": "stream",
     "text": [
      "p-value annotation legend:\n",
      "ns: 5.00e-02 < p <= 1.00e+00\n",
      "*: 1.00e-02 < p <= 5.00e-02\n",
      "**: 1.00e-03 < p <= 1.00e-02\n",
      "***: 1.00e-04 < p <= 1.00e-03\n",
      "****: p <= 1.00e-04\n",
      "\n",
      "Using zero_method  wilcox\n",
      "Control v.s. Haptic: Wilcoxon test (paired samples), P_val=5.412e-03 stat=2.755e+02\n",
      "Using zero_method  wilcox\n",
      "Control v.s. Visual: Wilcoxon test (paired samples), P_val=2.044e-01 stat=2.230e+02\n",
      "Using zero_method  wilcox\n",
      "Control v.s. Multi-modality: Wilcoxon test (paired samples), P_val=5.075e-03 stat=2.395e+02\n",
      "p-value annotation legend:\n",
      "ns: 5.00e-02 < p <= 1.00e+00\n",
      "*: 1.00e-02 < p <= 5.00e-02\n",
      "**: 1.00e-03 < p <= 1.00e-02\n",
      "***: 1.00e-04 < p <= 1.00e-03\n",
      "****: p <= 1.00e-04\n",
      "\n",
      "Using zero_method  wilcox\n",
      "Haptic v.s. Visual: Wilcoxon test (paired samples), P_val=9.024e-01 stat=7.050e+01\n",
      "Using zero_method  wilcox\n",
      "Visual v.s. Multi-modality: Wilcoxon test (paired samples), P_val=3.691e-02 stat=2.285e+02\n",
      "Using zero_method  wilcox\n",
      "Haptic v.s. Multi-modality: Wilcoxon test (paired samples), P_val=1.455e-01 stat=2.015e+02\n"
     ]
    },
    {
     "data": {
      "text/plain": [
       "[Text(0.5, 4.750000000000002, 'Paired analysis between conditions (Greater)'),\n",
       " Text(457.2045454545454, 0.5, '')]"
      ]
     },
     "execution_count": 73,
     "metadata": {},
     "output_type": "execute_result"
    },
    {
     "data": {
      "image/png": "[encoded data removed]",
      "image/svg+xml": "<?xml version=\"1.0\" encoding=\"utf-8\" standalone=\"no\"?>\r\n<!DOCTYPE svg PUBLIC \"-//W3C//DTD SVG 1.1//EN\"\r\n  \"http://www.w3.org/Graphics/SVG/1.1/DTD/svg11.dtd\">\r\n<!-- Created with matplotlib (https://matplotlib.org/) -->\r\n<svg height=\"263.344374pt\" version=\"1.1\" viewBox=\"0 0 558.891761 263.344374\" width=\"558.891761pt\" xmlns=\"http://www.w3.org/2000/svg\" xmlns:xlink=\"http://www.w3.org/1999/xlink\">\r\n <metadata>\r\n  <rdf:RDF xmlns:cc=\"http://creativecommons.org/ns#\" xmlns:dc=\"http://purl.org/dc/elements/1.1/\" xmlns:rdf=\"http://www.w3.org/1999/02/22-rdf-syntax-ns#\">\r\n   <cc:Work>\r\n    <dc:type rdf:resource=\"http://purl.org/dc/dcmitype/StillImage\"/>\r\n    <dc:date>2021-06-02T23:31:22.777568</dc:date>\r\n    <dc:format>image/svg+xml</dc:format>\r\n    <dc:creator>\r\n     <cc:Agent>\r\n      <dc:title>Matplotlib v3.3.2, https://matplotlib.org/</dc:title>\r\n     </cc:Agent>\r\n    </dc:creator>\r\n   </cc:Work>\r\n  </rdf:RDF>\r\n </metadata>\r\n <defs>\r\n  <style type=\"text/css\">*{stroke-linecap:butt;stroke-linejoin:round;}</style>\r\n </defs>\r\n <g id=\"figure_1\">\r\n  <g id=\"patch_1\">\r\n   <path d=\"M 0 263.344374 \r\nL 558.891761 263.344374 \r\nL 558.891761 0 \r\nL 0 0 \r\nz\r\n\" style=\"fill:#ffffff;\"/>\r\n  </g>\r\n  <g id=\"axes_1\">\r\n   <g id=\"patch_2\">\r\n    <path d=\"M 43.908438 221.194374 \r\nL 272.181165 221.194374 \r\nL 272.181165 58.114374 \r\nL 43.908438 58.114374 \r\nz\r\n\" style=\"fill:#ffffff;\"/>\r\n   </g>\r\n   <g id=\"matplotlib.axis_1\">\r\n    <g id=\"xtick_1\">\r\n     <g id=\"text_1\">\r\n      <!-- Control -->\r\n      <g style=\"fill:#262626;\" transform=\"translate(54.713622 238.567968)scale(0.11 -0.11)\">\r\n       <defs>\r\n        <path d=\"M 58.796875 25.09375 \r\nL 68.265625 22.703125 \r\nQ 65.28125 11.03125 57.546875 4.90625 \r\nQ 49.8125 -1.21875 38.625 -1.21875 \r\nQ 27.046875 -1.21875 19.796875 3.484375 \r\nQ 12.546875 8.203125 8.765625 17.140625 \r\nQ 4.984375 26.078125 4.984375 36.328125 \r\nQ 4.984375 47.515625 9.25 55.828125 \r\nQ 13.53125 64.15625 21.40625 68.46875 \r\nQ 29.296875 72.796875 38.765625 72.796875 \r\nQ 49.515625 72.796875 56.828125 67.328125 \r\nQ 64.15625 61.859375 67.046875 51.953125 \r\nL 57.71875 49.75 \r\nQ 55.21875 57.5625 50.484375 61.125 \r\nQ 45.75 64.703125 38.578125 64.703125 \r\nQ 30.328125 64.703125 24.78125 60.734375 \r\nQ 19.234375 56.78125 16.984375 50.109375 \r\nQ 14.75 43.453125 14.75 36.375 \r\nQ 14.75 27.25 17.40625 20.4375 \r\nQ 20.0625 13.625 25.671875 10.25 \r\nQ 31.296875 6.890625 37.84375 6.890625 \r\nQ 45.796875 6.890625 51.3125 11.46875 \r\nQ 56.84375 16.0625 58.796875 25.09375 \r\nz\r\n\" id=\"ArialMT-67\"/>\r\n        <path d=\"M 3.328125 25.921875 \r\nQ 3.328125 40.328125 11.328125 47.265625 \r\nQ 18.015625 53.03125 27.640625 53.03125 \r\nQ 38.328125 53.03125 45.109375 46.015625 \r\nQ 51.90625 39.015625 51.90625 26.65625 \r\nQ 51.90625 16.65625 48.90625 10.90625 \r\nQ 45.90625 5.171875 40.15625 2 \r\nQ 34.421875 -1.171875 27.640625 -1.171875 \r\nQ 16.75 -1.171875 10.03125 5.8125 \r\nQ 3.328125 12.796875 3.328125 25.921875 \r\nz\r\nM 12.359375 25.921875 \r\nQ 12.359375 15.96875 16.703125 11.015625 \r\nQ 21.046875 6.0625 27.640625 6.0625 \r\nQ 34.1875 6.0625 38.53125 11.03125 \r\nQ 42.875 16.015625 42.875 26.21875 \r\nQ 42.875 35.84375 38.5 40.796875 \r\nQ 34.125 45.75 27.640625 45.75 \r\nQ 21.046875 45.75 16.703125 40.8125 \r\nQ 12.359375 35.890625 12.359375 25.921875 \r\nz\r\n\" id=\"ArialMT-111\"/>\r\n        <path d=\"M 6.59375 0 \r\nL 6.59375 51.859375 \r\nL 14.5 51.859375 \r\nL 14.5 44.484375 \r\nQ 20.21875 53.03125 31 53.03125 \r\nQ 35.6875 53.03125 39.625 51.34375 \r\nQ 43.5625 49.65625 45.515625 46.921875 \r\nQ 47.46875 44.1875 48.25 40.4375 \r\nQ 48.734375 37.984375 48.734375 31.890625 \r\nL 48.734375 0 \r\nL 39.9375 0 \r\nL 39.9375 31.546875 \r\nQ 39.9375 36.921875 38.90625 39.578125 \r\nQ 37.890625 42.234375 35.28125 43.8125 \r\nQ 32.671875 45.40625 29.15625 45.40625 \r\nQ 23.53125 45.40625 19.453125 41.84375 \r\nQ 15.375 38.28125 15.375 28.328125 \r\nL 15.375 0 \r\nz\r\n\" id=\"ArialMT-110\"/>\r\n        <path d=\"M 25.78125 7.859375 \r\nL 27.046875 0.09375 \r\nQ 23.34375 -0.6875 20.40625 -0.6875 \r\nQ 15.625 -0.6875 12.984375 0.828125 \r\nQ 10.359375 2.34375 9.28125 4.8125 \r\nQ 8.203125 7.28125 8.203125 15.1875 \r\nL 8.203125 45.015625 \r\nL 1.765625 45.015625 \r\nL 1.765625 51.859375 \r\nL 8.203125 51.859375 \r\nL 8.203125 64.703125 \r\nL 16.9375 69.96875 \r\nL 16.9375 51.859375 \r\nL 25.78125 51.859375 \r\nL 25.78125 45.015625 \r\nL 16.9375 45.015625 \r\nL 16.9375 14.703125 \r\nQ 16.9375 10.9375 17.40625 9.859375 \r\nQ 17.875 8.796875 18.921875 8.15625 \r\nQ 19.96875 7.515625 21.921875 7.515625 \r\nQ 23.390625 7.515625 25.78125 7.859375 \r\nz\r\n\" id=\"ArialMT-116\"/>\r\n        <path d=\"M 6.5 0 \r\nL 6.5 51.859375 \r\nL 14.40625 51.859375 \r\nL 14.40625 44 \r\nQ 17.4375 49.515625 20 51.265625 \r\nQ 22.5625 53.03125 25.640625 53.03125 \r\nQ 30.078125 53.03125 34.671875 50.203125 \r\nL 31.640625 42.046875 \r\nQ 28.421875 43.953125 25.203125 43.953125 \r\nQ 22.3125 43.953125 20.015625 42.21875 \r\nQ 17.71875 40.484375 16.75 37.40625 \r\nQ 15.28125 32.71875 15.28125 27.15625 \r\nL 15.28125 0 \r\nz\r\n\" id=\"ArialMT-114\"/>\r\n        <path d=\"M 6.390625 0 \r\nL 6.390625 71.578125 \r\nL 15.1875 71.578125 \r\nL 15.1875 0 \r\nz\r\n\" id=\"ArialMT-108\"/>\r\n       </defs>\r\n       <use xlink:href=\"#ArialMT-67\"/>\r\n       <use x=\"72.216797\" xlink:href=\"#ArialMT-111\"/>\r\n       <use x=\"127.832031\" xlink:href=\"#ArialMT-110\"/>\r\n       <use x=\"183.447266\" xlink:href=\"#ArialMT-116\"/>\r\n       <use x=\"211.230469\" xlink:href=\"#ArialMT-114\"/>\r\n       <use x=\"244.53125\" xlink:href=\"#ArialMT-111\"/>\r\n       <use x=\"300.146484\" xlink:href=\"#ArialMT-108\"/>\r\n      </g>\r\n     </g>\r\n    </g>\r\n    <g id=\"xtick_2\">\r\n     <g id=\"text_2\">\r\n      <!-- Haptic -->\r\n      <g style=\"fill:#262626;\" transform=\"translate(113.921648 238.567968)scale(0.11 -0.11)\">\r\n       <defs>\r\n        <path d=\"M 8.015625 0 \r\nL 8.015625 71.578125 \r\nL 17.484375 71.578125 \r\nL 17.484375 42.1875 \r\nL 54.6875 42.1875 \r\nL 54.6875 71.578125 \r\nL 64.15625 71.578125 \r\nL 64.15625 0 \r\nL 54.6875 0 \r\nL 54.6875 33.734375 \r\nL 17.484375 33.734375 \r\nL 17.484375 0 \r\nz\r\n\" id=\"ArialMT-72\"/>\r\n        <path d=\"M 40.4375 6.390625 \r\nQ 35.546875 2.25 31.03125 0.53125 \r\nQ 26.515625 -1.171875 21.34375 -1.171875 \r\nQ 12.796875 -1.171875 8.203125 3 \r\nQ 3.609375 7.171875 3.609375 13.671875 \r\nQ 3.609375 17.484375 5.34375 20.625 \r\nQ 7.078125 23.78125 9.890625 25.6875 \r\nQ 12.703125 27.59375 16.21875 28.5625 \r\nQ 18.796875 29.25 24.03125 29.890625 \r\nQ 34.671875 31.15625 39.703125 32.90625 \r\nQ 39.75 34.71875 39.75 35.203125 \r\nQ 39.75 40.578125 37.25 42.78125 \r\nQ 33.890625 45.75 27.25 45.75 \r\nQ 21.046875 45.75 18.09375 43.578125 \r\nQ 15.140625 41.40625 13.71875 35.890625 \r\nL 5.125 37.0625 \r\nQ 6.296875 42.578125 8.984375 45.96875 \r\nQ 11.671875 49.359375 16.75 51.1875 \r\nQ 21.828125 53.03125 28.515625 53.03125 \r\nQ 35.15625 53.03125 39.296875 51.46875 \r\nQ 43.453125 49.90625 45.40625 47.53125 \r\nQ 47.359375 45.171875 48.140625 41.546875 \r\nQ 48.578125 39.3125 48.578125 33.453125 \r\nL 48.578125 21.734375 \r\nQ 48.578125 9.46875 49.140625 6.21875 \r\nQ 49.703125 2.984375 51.375 0 \r\nL 42.1875 0 \r\nQ 40.828125 2.734375 40.4375 6.390625 \r\nz\r\nM 39.703125 26.03125 \r\nQ 34.90625 24.078125 25.34375 22.703125 \r\nQ 19.921875 21.921875 17.671875 20.9375 \r\nQ 15.4375 19.96875 14.203125 18.09375 \r\nQ 12.984375 16.21875 12.984375 13.921875 \r\nQ 12.984375 10.40625 15.640625 8.0625 \r\nQ 18.3125 5.71875 23.4375 5.71875 \r\nQ 28.515625 5.71875 32.46875 7.9375 \r\nQ 36.421875 10.15625 38.28125 14.015625 \r\nQ 39.703125 17 39.703125 22.796875 \r\nz\r\n\" id=\"ArialMT-97\"/>\r\n        <path d=\"M 6.59375 -19.875 \r\nL 6.59375 51.859375 \r\nL 14.59375 51.859375 \r\nL 14.59375 45.125 \r\nQ 17.4375 49.078125 21 51.046875 \r\nQ 24.5625 53.03125 29.640625 53.03125 \r\nQ 36.28125 53.03125 41.359375 49.609375 \r\nQ 46.4375 46.1875 49.015625 39.953125 \r\nQ 51.609375 33.734375 51.609375 26.3125 \r\nQ 51.609375 18.359375 48.75 11.984375 \r\nQ 45.90625 5.609375 40.453125 2.21875 \r\nQ 35.015625 -1.171875 29 -1.171875 \r\nQ 24.609375 -1.171875 21.109375 0.6875 \r\nQ 17.625 2.546875 15.375 5.375 \r\nL 15.375 -19.875 \r\nz\r\nM 14.546875 25.640625 \r\nQ 14.546875 15.625 18.59375 10.84375 \r\nQ 22.65625 6.0625 28.421875 6.0625 \r\nQ 34.28125 6.0625 38.453125 11.015625 \r\nQ 42.625 15.96875 42.625 26.375 \r\nQ 42.625 36.28125 38.546875 41.203125 \r\nQ 34.46875 46.140625 28.8125 46.140625 \r\nQ 23.1875 46.140625 18.859375 40.890625 \r\nQ 14.546875 35.640625 14.546875 25.640625 \r\nz\r\n\" id=\"ArialMT-112\"/>\r\n        <path d=\"M 6.640625 61.46875 \r\nL 6.640625 71.578125 \r\nL 15.4375 71.578125 \r\nL 15.4375 61.46875 \r\nz\r\nM 6.640625 0 \r\nL 6.640625 51.859375 \r\nL 15.4375 51.859375 \r\nL 15.4375 0 \r\nz\r\n\" id=\"ArialMT-105\"/>\r\n        <path d=\"M 40.4375 19 \r\nL 49.078125 17.875 \r\nQ 47.65625 8.9375 41.8125 3.875 \r\nQ 35.984375 -1.171875 27.484375 -1.171875 \r\nQ 16.84375 -1.171875 10.375 5.78125 \r\nQ 3.90625 12.75 3.90625 25.734375 \r\nQ 3.90625 34.125 6.6875 40.421875 \r\nQ 9.46875 46.734375 15.15625 49.875 \r\nQ 20.84375 53.03125 27.546875 53.03125 \r\nQ 35.984375 53.03125 41.359375 48.75 \r\nQ 46.734375 44.484375 48.25 36.625 \r\nL 39.703125 35.296875 \r\nQ 38.484375 40.53125 35.375 43.15625 \r\nQ 32.28125 45.796875 27.875 45.796875 \r\nQ 21.234375 45.796875 17.078125 41.03125 \r\nQ 12.9375 36.28125 12.9375 25.984375 \r\nQ 12.9375 15.53125 16.9375 10.796875 \r\nQ 20.953125 6.0625 27.390625 6.0625 \r\nQ 32.5625 6.0625 36.03125 9.234375 \r\nQ 39.5 12.40625 40.4375 19 \r\nz\r\n\" id=\"ArialMT-99\"/>\r\n       </defs>\r\n       <use xlink:href=\"#ArialMT-72\"/>\r\n       <use x=\"72.216797\" xlink:href=\"#ArialMT-97\"/>\r\n       <use x=\"127.832031\" xlink:href=\"#ArialMT-112\"/>\r\n       <use x=\"183.447266\" xlink:href=\"#ArialMT-116\"/>\r\n       <use x=\"211.230469\" xlink:href=\"#ArialMT-105\"/>\r\n       <use x=\"233.447266\" xlink:href=\"#ArialMT-99\"/>\r\n      </g>\r\n     </g>\r\n    </g>\r\n    <g id=\"xtick_3\">\r\n     <g id=\"text_3\">\r\n      <!-- Visual -->\r\n      <g style=\"fill:#262626;\" transform=\"translate(171.695376 238.567968)scale(0.11 -0.11)\">\r\n       <defs>\r\n        <path d=\"M 28.171875 0 \r\nL 0.4375 71.578125 \r\nL 10.6875 71.578125 \r\nL 29.296875 19.578125 \r\nQ 31.546875 13.328125 33.0625 7.859375 \r\nQ 34.71875 13.71875 36.921875 19.578125 \r\nL 56.25 71.578125 \r\nL 65.921875 71.578125 \r\nL 37.890625 0 \r\nz\r\n\" id=\"ArialMT-86\"/>\r\n        <path d=\"M 3.078125 15.484375 \r\nL 11.765625 16.84375 \r\nQ 12.5 11.625 15.84375 8.84375 \r\nQ 19.1875 6.0625 25.203125 6.0625 \r\nQ 31.25 6.0625 34.171875 8.515625 \r\nQ 37.109375 10.984375 37.109375 14.3125 \r\nQ 37.109375 17.28125 34.515625 19 \r\nQ 32.71875 20.171875 25.53125 21.96875 \r\nQ 15.875 24.421875 12.140625 26.203125 \r\nQ 8.40625 27.984375 6.46875 31.125 \r\nQ 4.546875 34.28125 4.546875 38.09375 \r\nQ 4.546875 41.546875 6.125 44.5 \r\nQ 7.71875 47.46875 10.453125 49.421875 \r\nQ 12.5 50.921875 16.03125 51.96875 \r\nQ 19.578125 53.03125 23.640625 53.03125 \r\nQ 29.734375 53.03125 34.34375 51.265625 \r\nQ 38.96875 49.515625 41.15625 46.5 \r\nQ 43.359375 43.5 44.1875 38.484375 \r\nL 35.59375 37.3125 \r\nQ 35.015625 41.3125 32.203125 43.546875 \r\nQ 29.390625 45.796875 24.265625 45.796875 \r\nQ 18.21875 45.796875 15.625 43.796875 \r\nQ 13.03125 41.796875 13.03125 39.109375 \r\nQ 13.03125 37.40625 14.109375 36.03125 \r\nQ 15.1875 34.625 17.484375 33.6875 \r\nQ 18.796875 33.203125 25.25 31.453125 \r\nQ 34.578125 28.953125 38.25 27.359375 \r\nQ 41.9375 25.78125 44.03125 22.75 \r\nQ 46.140625 19.734375 46.140625 15.234375 \r\nQ 46.140625 10.84375 43.578125 6.953125 \r\nQ 41.015625 3.078125 36.171875 0.953125 \r\nQ 31.34375 -1.171875 25.25 -1.171875 \r\nQ 15.140625 -1.171875 9.84375 3.03125 \r\nQ 4.546875 7.234375 3.078125 15.484375 \r\nz\r\n\" id=\"ArialMT-115\"/>\r\n        <path d=\"M 40.578125 0 \r\nL 40.578125 7.625 \r\nQ 34.515625 -1.171875 24.125 -1.171875 \r\nQ 19.53125 -1.171875 15.546875 0.578125 \r\nQ 11.578125 2.34375 9.640625 5 \r\nQ 7.71875 7.671875 6.9375 11.53125 \r\nQ 6.390625 14.109375 6.390625 19.734375 \r\nL 6.390625 51.859375 \r\nL 15.1875 51.859375 \r\nL 15.1875 23.09375 \r\nQ 15.1875 16.21875 15.71875 13.8125 \r\nQ 16.546875 10.359375 19.234375 8.375 \r\nQ 21.921875 6.390625 25.875 6.390625 \r\nQ 29.828125 6.390625 33.296875 8.421875 \r\nQ 36.765625 10.453125 38.203125 13.9375 \r\nQ 39.65625 17.4375 39.65625 24.078125 \r\nL 39.65625 51.859375 \r\nL 48.4375 51.859375 \r\nL 48.4375 0 \r\nz\r\n\" id=\"ArialMT-117\"/>\r\n       </defs>\r\n       <use xlink:href=\"#ArialMT-86\"/>\r\n       <use x=\"64.949219\" xlink:href=\"#ArialMT-105\"/>\r\n       <use x=\"87.166016\" xlink:href=\"#ArialMT-115\"/>\r\n       <use x=\"137.166016\" xlink:href=\"#ArialMT-117\"/>\r\n       <use x=\"192.78125\" xlink:href=\"#ArialMT-97\"/>\r\n       <use x=\"248.396484\" xlink:href=\"#ArialMT-108\"/>\r\n      </g>\r\n     </g>\r\n    </g>\r\n    <g id=\"xtick_4\">\r\n     <g id=\"text_4\">\r\n      <!-- Multi-modality -->\r\n      <g style=\"fill:#262626;\" transform=\"translate(209.724964 238.567968)scale(0.11 -0.11)\">\r\n       <defs>\r\n        <path d=\"M 7.421875 0 \r\nL 7.421875 71.578125 \r\nL 21.6875 71.578125 \r\nL 38.625 20.90625 \r\nQ 40.96875 13.8125 42.046875 10.296875 \r\nQ 43.265625 14.203125 45.84375 21.78125 \r\nL 62.984375 71.578125 \r\nL 75.734375 71.578125 \r\nL 75.734375 0 \r\nL 66.609375 0 \r\nL 66.609375 59.90625 \r\nL 45.796875 0 \r\nL 37.25 0 \r\nL 16.546875 60.9375 \r\nL 16.546875 0 \r\nz\r\n\" id=\"ArialMT-77\"/>\r\n        <path d=\"M 3.171875 21.484375 \r\nL 3.171875 30.328125 \r\nL 30.171875 30.328125 \r\nL 30.171875 21.484375 \r\nz\r\n\" id=\"ArialMT-45\"/>\r\n        <path d=\"M 6.59375 0 \r\nL 6.59375 51.859375 \r\nL 14.453125 51.859375 \r\nL 14.453125 44.578125 \r\nQ 16.890625 48.390625 20.9375 50.703125 \r\nQ 25 53.03125 30.171875 53.03125 \r\nQ 35.9375 53.03125 39.625 50.640625 \r\nQ 43.3125 48.25 44.828125 43.953125 \r\nQ 50.984375 53.03125 60.84375 53.03125 \r\nQ 68.5625 53.03125 72.703125 48.75 \r\nQ 76.859375 44.484375 76.859375 35.59375 \r\nL 76.859375 0 \r\nL 68.109375 0 \r\nL 68.109375 32.671875 \r\nQ 68.109375 37.9375 67.25 40.25 \r\nQ 66.40625 42.578125 64.15625 43.984375 \r\nQ 61.921875 45.40625 58.890625 45.40625 \r\nQ 53.421875 45.40625 49.796875 41.765625 \r\nQ 46.1875 38.140625 46.1875 30.125 \r\nL 46.1875 0 \r\nL 37.40625 0 \r\nL 37.40625 33.6875 \r\nQ 37.40625 39.546875 35.25 42.46875 \r\nQ 33.109375 45.40625 28.21875 45.40625 \r\nQ 24.515625 45.40625 21.359375 43.453125 \r\nQ 18.21875 41.5 16.796875 37.734375 \r\nQ 15.375 33.984375 15.375 26.90625 \r\nL 15.375 0 \r\nz\r\n\" id=\"ArialMT-109\"/>\r\n        <path d=\"M 40.234375 0 \r\nL 40.234375 6.546875 \r\nQ 35.296875 -1.171875 25.734375 -1.171875 \r\nQ 19.53125 -1.171875 14.328125 2.25 \r\nQ 9.125 5.671875 6.265625 11.796875 \r\nQ 3.421875 17.921875 3.421875 25.875 \r\nQ 3.421875 33.640625 6 39.96875 \r\nQ 8.59375 46.296875 13.765625 49.65625 \r\nQ 18.953125 53.03125 25.34375 53.03125 \r\nQ 30.03125 53.03125 33.6875 51.046875 \r\nQ 37.359375 49.078125 39.65625 45.90625 \r\nL 39.65625 71.578125 \r\nL 48.390625 71.578125 \r\nL 48.390625 0 \r\nz\r\nM 12.453125 25.875 \r\nQ 12.453125 15.921875 16.640625 10.984375 \r\nQ 20.84375 6.0625 26.5625 6.0625 \r\nQ 32.328125 6.0625 36.34375 10.765625 \r\nQ 40.375 15.484375 40.375 25.140625 \r\nQ 40.375 35.796875 36.265625 40.765625 \r\nQ 32.171875 45.75 26.171875 45.75 \r\nQ 20.3125 45.75 16.375 40.96875 \r\nQ 12.453125 36.1875 12.453125 25.875 \r\nz\r\n\" id=\"ArialMT-100\"/>\r\n        <path d=\"M 6.203125 -19.96875 \r\nL 5.21875 -11.71875 \r\nQ 8.109375 -12.5 10.25 -12.5 \r\nQ 13.1875 -12.5 14.9375 -11.515625 \r\nQ 16.703125 -10.546875 17.828125 -8.796875 \r\nQ 18.65625 -7.46875 20.515625 -2.25 \r\nQ 20.75 -1.515625 21.296875 -0.09375 \r\nL 1.609375 51.859375 \r\nL 11.078125 51.859375 \r\nL 21.875 21.828125 \r\nQ 23.96875 16.109375 25.640625 9.8125 \r\nQ 27.15625 15.875 29.25 21.625 \r\nL 40.328125 51.859375 \r\nL 49.125 51.859375 \r\nL 29.390625 -0.875 \r\nQ 26.21875 -9.421875 24.46875 -12.640625 \r\nQ 22.125 -17 19.09375 -19.015625 \r\nQ 16.0625 -21.046875 11.859375 -21.046875 \r\nQ 9.328125 -21.046875 6.203125 -19.96875 \r\nz\r\n\" id=\"ArialMT-121\"/>\r\n       </defs>\r\n       <use xlink:href=\"#ArialMT-77\"/>\r\n       <use x=\"83.300781\" xlink:href=\"#ArialMT-117\"/>\r\n       <use x=\"138.916016\" xlink:href=\"#ArialMT-108\"/>\r\n       <use x=\"161.132812\" xlink:href=\"#ArialMT-116\"/>\r\n       <use x=\"188.916016\" xlink:href=\"#ArialMT-105\"/>\r\n       <use x=\"211.132812\" xlink:href=\"#ArialMT-45\"/>\r\n       <use x=\"244.433594\" xlink:href=\"#ArialMT-109\"/>\r\n       <use x=\"327.734375\" xlink:href=\"#ArialMT-111\"/>\r\n       <use x=\"383.349609\" xlink:href=\"#ArialMT-100\"/>\r\n       <use x=\"438.964844\" xlink:href=\"#ArialMT-97\"/>\r\n       <use x=\"494.580078\" xlink:href=\"#ArialMT-108\"/>\r\n       <use x=\"516.796875\" xlink:href=\"#ArialMT-105\"/>\r\n       <use x=\"539.013672\" xlink:href=\"#ArialMT-116\"/>\r\n       <use x=\"566.796875\" xlink:href=\"#ArialMT-121\"/>\r\n      </g>\r\n     </g>\r\n    </g>\r\n    <g id=\"text_5\">\r\n     <!-- Paired analysis between conditions (Greater) -->\r\n     <g style=\"fill:#262626;\" transform=\"translate(38.325114 253.618749)scale(0.12 -0.12)\">\r\n      <defs>\r\n       <path d=\"M 7.71875 0 \r\nL 7.71875 71.578125 \r\nL 34.71875 71.578125 \r\nQ 41.84375 71.578125 45.609375 70.90625 \r\nQ 50.875 70.015625 54.4375 67.546875 \r\nQ 58.015625 65.09375 60.1875 60.640625 \r\nQ 62.359375 56.203125 62.359375 50.875 \r\nQ 62.359375 41.75 56.546875 35.421875 \r\nQ 50.734375 29.109375 35.546875 29.109375 \r\nL 17.1875 29.109375 \r\nL 17.1875 0 \r\nz\r\nM 17.1875 37.546875 \r\nL 35.6875 37.546875 \r\nQ 44.875 37.546875 48.734375 40.96875 \r\nQ 52.59375 44.390625 52.59375 50.59375 \r\nQ 52.59375 55.078125 50.3125 58.265625 \r\nQ 48.046875 61.46875 44.34375 62.5 \r\nQ 41.9375 63.140625 35.5 63.140625 \r\nL 17.1875 63.140625 \r\nz\r\n\" id=\"ArialMT-80\"/>\r\n       <path d=\"M 42.09375 16.703125 \r\nL 51.171875 15.578125 \r\nQ 49.03125 7.625 43.21875 3.21875 \r\nQ 37.40625 -1.171875 28.375 -1.171875 \r\nQ 17 -1.171875 10.328125 5.828125 \r\nQ 3.65625 12.84375 3.65625 25.484375 \r\nQ 3.65625 38.578125 10.390625 45.796875 \r\nQ 17.140625 53.03125 27.875 53.03125 \r\nQ 38.28125 53.03125 44.875 45.953125 \r\nQ 51.46875 38.875 51.46875 26.03125 \r\nQ 51.46875 25.25 51.421875 23.6875 \r\nL 12.75 23.6875 \r\nQ 13.234375 15.140625 17.578125 10.59375 \r\nQ 21.921875 6.0625 28.421875 6.0625 \r\nQ 33.25 6.0625 36.671875 8.59375 \r\nQ 40.09375 11.140625 42.09375 16.703125 \r\nz\r\nM 13.234375 30.90625 \r\nL 42.1875 30.90625 \r\nQ 41.609375 37.453125 38.875 40.71875 \r\nQ 34.671875 45.796875 27.984375 45.796875 \r\nQ 21.921875 45.796875 17.796875 41.75 \r\nQ 13.671875 37.703125 13.234375 30.90625 \r\nz\r\n\" id=\"ArialMT-101\"/>\r\n       <path id=\"ArialMT-32\"/>\r\n       <path d=\"M 14.703125 0 \r\nL 6.546875 0 \r\nL 6.546875 71.578125 \r\nL 15.328125 71.578125 \r\nL 15.328125 46.046875 \r\nQ 20.90625 53.03125 29.546875 53.03125 \r\nQ 34.328125 53.03125 38.59375 51.09375 \r\nQ 42.875 49.171875 45.625 45.671875 \r\nQ 48.390625 42.1875 49.953125 37.25 \r\nQ 51.515625 32.328125 51.515625 26.703125 \r\nQ 51.515625 13.375 44.921875 6.09375 \r\nQ 38.328125 -1.171875 29.109375 -1.171875 \r\nQ 19.921875 -1.171875 14.703125 6.5 \r\nz\r\nM 14.59375 26.3125 \r\nQ 14.59375 17 17.140625 12.84375 \r\nQ 21.296875 6.0625 28.375 6.0625 \r\nQ 34.125 6.0625 38.328125 11.0625 \r\nQ 42.53125 16.0625 42.53125 25.984375 \r\nQ 42.53125 36.140625 38.5 40.96875 \r\nQ 34.46875 45.796875 28.765625 45.796875 \r\nQ 23 45.796875 18.796875 40.796875 \r\nQ 14.59375 35.796875 14.59375 26.3125 \r\nz\r\n\" id=\"ArialMT-98\"/>\r\n       <path d=\"M 16.15625 0 \r\nL 0.296875 51.859375 \r\nL 9.375 51.859375 \r\nL 17.625 21.921875 \r\nL 20.703125 10.796875 \r\nQ 20.90625 11.625 23.390625 21.484375 \r\nL 31.640625 51.859375 \r\nL 40.671875 51.859375 \r\nL 48.4375 21.78125 \r\nL 51.03125 11.859375 \r\nL 54 21.875 \r\nL 62.890625 51.859375 \r\nL 71.4375 51.859375 \r\nL 55.21875 0 \r\nL 46.09375 0 \r\nL 37.84375 31.0625 \r\nL 35.84375 39.890625 \r\nL 25.34375 0 \r\nz\r\n\" id=\"ArialMT-119\"/>\r\n       <path d=\"M 23.390625 -21.046875 \r\nQ 16.109375 -11.859375 11.078125 0.4375 \r\nQ 6.0625 12.75 6.0625 25.921875 \r\nQ 6.0625 37.546875 9.8125 48.1875 \r\nQ 14.203125 60.546875 23.390625 72.796875 \r\nL 29.6875 72.796875 \r\nQ 23.78125 62.640625 21.875 58.296875 \r\nQ 18.890625 51.5625 17.1875 44.234375 \r\nQ 15.09375 35.109375 15.09375 25.875 \r\nQ 15.09375 2.390625 29.6875 -21.046875 \r\nz\r\n\" id=\"ArialMT-40\"/>\r\n       <path d=\"M 41.21875 28.078125 \r\nL 41.21875 36.46875 \r\nL 71.53125 36.53125 \r\nL 71.53125 9.96875 \r\nQ 64.546875 4.390625 57.125 1.578125 \r\nQ 49.703125 -1.21875 41.890625 -1.21875 \r\nQ 31.34375 -1.21875 22.71875 3.296875 \r\nQ 14.109375 7.8125 9.71875 16.359375 \r\nQ 5.328125 24.90625 5.328125 35.453125 \r\nQ 5.328125 45.90625 9.6875 54.953125 \r\nQ 14.0625 64.015625 22.265625 68.40625 \r\nQ 30.46875 72.796875 41.15625 72.796875 \r\nQ 48.921875 72.796875 55.1875 70.28125 \r\nQ 61.46875 67.78125 65.03125 63.28125 \r\nQ 68.609375 58.796875 70.453125 51.5625 \r\nL 61.921875 49.21875 \r\nQ 60.296875 54.6875 57.90625 57.8125 \r\nQ 55.515625 60.9375 51.0625 62.8125 \r\nQ 46.625 64.703125 41.21875 64.703125 \r\nQ 34.71875 64.703125 29.984375 62.71875 \r\nQ 25.25 60.75 22.34375 57.515625 \r\nQ 19.4375 54.296875 17.828125 50.4375 \r\nQ 15.09375 43.796875 15.09375 36.03125 \r\nQ 15.09375 26.46875 18.390625 20.015625 \r\nQ 21.6875 13.578125 27.984375 10.453125 \r\nQ 34.28125 7.328125 41.359375 7.328125 \r\nQ 47.515625 7.328125 53.375 9.6875 \r\nQ 59.234375 12.0625 62.25 14.75 \r\nL 62.25 28.078125 \r\nz\r\n\" id=\"ArialMT-71\"/>\r\n       <path d=\"M 12.359375 -21.046875 \r\nL 6.0625 -21.046875 \r\nQ 20.65625 2.390625 20.65625 25.875 \r\nQ 20.65625 35.0625 18.5625 44.09375 \r\nQ 16.890625 51.421875 13.921875 58.15625 \r\nQ 12.015625 62.546875 6.0625 72.796875 \r\nL 12.359375 72.796875 \r\nQ 21.53125 60.546875 25.921875 48.1875 \r\nQ 29.6875 37.546875 29.6875 25.921875 \r\nQ 29.6875 12.75 24.625 0.4375 \r\nQ 19.578125 -11.859375 12.359375 -21.046875 \r\nz\r\n\" id=\"ArialMT-41\"/>\r\n      </defs>\r\n      <use xlink:href=\"#ArialMT-80\"/>\r\n      <use x=\"66.699219\" xlink:href=\"#ArialMT-97\"/>\r\n      <use x=\"122.314453\" xlink:href=\"#ArialMT-105\"/>\r\n      <use x=\"144.53125\" xlink:href=\"#ArialMT-114\"/>\r\n      <use x=\"177.832031\" xlink:href=\"#ArialMT-101\"/>\r\n      <use x=\"233.447266\" xlink:href=\"#ArialMT-100\"/>\r\n      <use x=\"289.0625\" xlink:href=\"#ArialMT-32\"/>\r\n      <use x=\"316.845703\" xlink:href=\"#ArialMT-97\"/>\r\n      <use x=\"372.460938\" xlink:href=\"#ArialMT-110\"/>\r\n      <use x=\"428.076172\" xlink:href=\"#ArialMT-97\"/>\r\n      <use x=\"483.691406\" xlink:href=\"#ArialMT-108\"/>\r\n      <use x=\"505.908203\" xlink:href=\"#ArialMT-121\"/>\r\n      <use x=\"555.908203\" xlink:href=\"#ArialMT-115\"/>\r\n      <use x=\"605.908203\" xlink:href=\"#ArialMT-105\"/>\r\n      <use x=\"628.125\" xlink:href=\"#ArialMT-115\"/>\r\n      <use x=\"678.125\" xlink:href=\"#ArialMT-32\"/>\r\n      <use x=\"705.908203\" xlink:href=\"#ArialMT-98\"/>\r\n      <use x=\"761.523438\" xlink:href=\"#ArialMT-101\"/>\r\n      <use x=\"817.138672\" xlink:href=\"#ArialMT-116\"/>\r\n      <use x=\"844.921875\" xlink:href=\"#ArialMT-119\"/>\r\n      <use x=\"917.138672\" xlink:href=\"#ArialMT-101\"/>\r\n      <use x=\"972.753906\" xlink:href=\"#ArialMT-101\"/>\r\n      <use x=\"1028.369141\" xlink:href=\"#ArialMT-110\"/>\r\n      <use x=\"1083.984375\" xlink:href=\"#ArialMT-32\"/>\r\n      <use x=\"1111.767578\" xlink:href=\"#ArialMT-99\"/>\r\n      <use x=\"1161.767578\" xlink:href=\"#ArialMT-111\"/>\r\n      <use x=\"1217.382812\" xlink:href=\"#ArialMT-110\"/>\r\n      <use x=\"1272.998047\" xlink:href=\"#ArialMT-100\"/>\r\n      <use x=\"1328.613281\" xlink:href=\"#ArialMT-105\"/>\r\n      <use x=\"1350.830078\" xlink:href=\"#ArialMT-116\"/>\r\n      <use x=\"1378.613281\" xlink:href=\"#ArialMT-105\"/>\r\n      <use x=\"1400.830078\" xlink:href=\"#ArialMT-111\"/>\r\n      <use x=\"1456.445312\" xlink:href=\"#ArialMT-110\"/>\r\n      <use x=\"1512.060547\" xlink:href=\"#ArialMT-115\"/>\r\n      <use x=\"1562.060547\" xlink:href=\"#ArialMT-32\"/>\r\n      <use x=\"1589.84375\" xlink:href=\"#ArialMT-40\"/>\r\n      <use x=\"1623.144531\" xlink:href=\"#ArialMT-71\"/>\r\n      <use x=\"1700.927734\" xlink:href=\"#ArialMT-114\"/>\r\n      <use x=\"1734.228516\" xlink:href=\"#ArialMT-101\"/>\r\n      <use x=\"1789.84375\" xlink:href=\"#ArialMT-97\"/>\r\n      <use x=\"1845.458984\" xlink:href=\"#ArialMT-116\"/>\r\n      <use x=\"1873.242188\" xlink:href=\"#ArialMT-101\"/>\r\n      <use x=\"1928.857422\" xlink:href=\"#ArialMT-114\"/>\r\n      <use x=\"1962.158203\" xlink:href=\"#ArialMT-41\"/>\r\n     </g>\r\n    </g>\r\n   </g>\r\n   <g id=\"matplotlib.axis_2\">\r\n    <g id=\"ytick_1\">\r\n     <g id=\"line2d_1\">\r\n      <path clip-path=\"url(#p1cf416add9)\" d=\"M 43.908438 221.194374 \r\nL 272.181165 221.194374 \r\n\" style=\"fill:none;stroke:#cccccc;stroke-linecap:round;\"/>\r\n     </g>\r\n     <g id=\"text_6\">\r\n      <!-- 0 -->\r\n      <g style=\"fill:#262626;\" transform=\"translate(28.291406 225.131171)scale(0.11 -0.11)\">\r\n       <defs>\r\n        <path d=\"M 4.15625 35.296875 \r\nQ 4.15625 48 6.765625 55.734375 \r\nQ 9.375 63.484375 14.515625 67.671875 \r\nQ 19.671875 71.875 27.484375 71.875 \r\nQ 33.25 71.875 37.59375 69.546875 \r\nQ 41.9375 67.234375 44.765625 62.859375 \r\nQ 47.609375 58.5 49.21875 52.21875 \r\nQ 50.828125 45.953125 50.828125 35.296875 \r\nQ 50.828125 22.703125 48.234375 14.96875 \r\nQ 45.65625 7.234375 40.5 3 \r\nQ 35.359375 -1.21875 27.484375 -1.21875 \r\nQ 17.140625 -1.21875 11.234375 6.203125 \r\nQ 4.15625 15.140625 4.15625 35.296875 \r\nz\r\nM 13.1875 35.296875 \r\nQ 13.1875 17.671875 17.3125 11.828125 \r\nQ 21.4375 6 27.484375 6 \r\nQ 33.546875 6 37.671875 11.859375 \r\nQ 41.796875 17.71875 41.796875 35.296875 \r\nQ 41.796875 52.984375 37.671875 58.78125 \r\nQ 33.546875 64.59375 27.390625 64.59375 \r\nQ 21.34375 64.59375 17.71875 59.46875 \r\nQ 13.1875 52.9375 13.1875 35.296875 \r\nz\r\n\" id=\"ArialMT-48\"/>\r\n       </defs>\r\n       <use xlink:href=\"#ArialMT-48\"/>\r\n      </g>\r\n     </g>\r\n    </g>\r\n    <g id=\"ytick_2\">\r\n     <g id=\"line2d_2\">\r\n      <path clip-path=\"url(#p1cf416add9)\" d=\"M 43.908438 188.883374 \r\nL 272.181165 188.883374 \r\n\" style=\"fill:none;stroke:#cccccc;stroke-linecap:round;\"/>\r\n     </g>\r\n     <g id=\"text_7\">\r\n      <!-- 2 -->\r\n      <g style=\"fill:#262626;\" transform=\"translate(28.291406 192.820171)scale(0.11 -0.11)\">\r\n       <defs>\r\n        <path d=\"M 50.34375 8.453125 \r\nL 50.34375 0 \r\nL 3.03125 0 \r\nQ 2.9375 3.171875 4.046875 6.109375 \r\nQ 5.859375 10.9375 9.828125 15.625 \r\nQ 13.8125 20.3125 21.34375 26.46875 \r\nQ 33.015625 36.03125 37.109375 41.625 \r\nQ 41.21875 47.21875 41.21875 52.203125 \r\nQ 41.21875 57.421875 37.46875 61 \r\nQ 33.734375 64.59375 27.734375 64.59375 \r\nQ 21.390625 64.59375 17.578125 60.78125 \r\nQ 13.765625 56.984375 13.71875 50.25 \r\nL 4.6875 51.171875 \r\nQ 5.609375 61.28125 11.65625 66.578125 \r\nQ 17.71875 71.875 27.9375 71.875 \r\nQ 38.234375 71.875 44.234375 66.15625 \r\nQ 50.25 60.453125 50.25 52 \r\nQ 50.25 47.703125 48.484375 43.546875 \r\nQ 46.734375 39.40625 42.65625 34.8125 \r\nQ 38.578125 30.21875 29.109375 22.21875 \r\nQ 21.1875 15.578125 18.9375 13.203125 \r\nQ 16.703125 10.84375 15.234375 8.453125 \r\nz\r\n\" id=\"ArialMT-50\"/>\r\n       </defs>\r\n       <use xlink:href=\"#ArialMT-50\"/>\r\n      </g>\r\n     </g>\r\n    </g>\r\n    <g id=\"ytick_3\">\r\n     <g id=\"line2d_3\">\r\n      <path clip-path=\"url(#p1cf416add9)\" d=\"M 43.908438 156.572374 \r\nL 272.181165 156.572374 \r\n\" style=\"fill:none;stroke:#cccccc;stroke-linecap:round;\"/>\r\n     </g>\r\n     <g id=\"text_8\">\r\n      <!-- 4 -->\r\n      <g style=\"fill:#262626;\" transform=\"translate(28.291406 160.509171)scale(0.11 -0.11)\">\r\n       <defs>\r\n        <path d=\"M 32.328125 0 \r\nL 32.328125 17.140625 \r\nL 1.265625 17.140625 \r\nL 1.265625 25.203125 \r\nL 33.9375 71.578125 \r\nL 41.109375 71.578125 \r\nL 41.109375 25.203125 \r\nL 50.78125 25.203125 \r\nL 50.78125 17.140625 \r\nL 41.109375 17.140625 \r\nL 41.109375 0 \r\nz\r\nM 32.328125 25.203125 \r\nL 32.328125 57.46875 \r\nL 9.90625 25.203125 \r\nz\r\n\" id=\"ArialMT-52\"/>\r\n       </defs>\r\n       <use xlink:href=\"#ArialMT-52\"/>\r\n      </g>\r\n     </g>\r\n    </g>\r\n    <g id=\"ytick_4\">\r\n     <g id=\"line2d_4\">\r\n      <path clip-path=\"url(#p1cf416add9)\" d=\"M 43.908438 124.261374 \r\nL 272.181165 124.261374 \r\n\" style=\"fill:none;stroke:#cccccc;stroke-linecap:round;\"/>\r\n     </g>\r\n     <g id=\"text_9\">\r\n      <!-- 6 -->\r\n      <g style=\"fill:#262626;\" transform=\"translate(28.291406 128.198171)scale(0.11 -0.11)\">\r\n       <defs>\r\n        <path d=\"M 49.75 54.046875 \r\nL 41.015625 53.375 \r\nQ 39.84375 58.546875 37.703125 60.890625 \r\nQ 34.125 64.65625 28.90625 64.65625 \r\nQ 24.703125 64.65625 21.53125 62.3125 \r\nQ 17.390625 59.28125 14.984375 53.46875 \r\nQ 12.59375 47.65625 12.5 36.921875 \r\nQ 15.671875 41.75 20.265625 44.09375 \r\nQ 24.859375 46.4375 29.890625 46.4375 \r\nQ 38.671875 46.4375 44.84375 39.96875 \r\nQ 51.03125 33.5 51.03125 23.25 \r\nQ 51.03125 16.5 48.125 10.71875 \r\nQ 45.21875 4.9375 40.140625 1.859375 \r\nQ 35.0625 -1.21875 28.609375 -1.21875 \r\nQ 17.625 -1.21875 10.6875 6.859375 \r\nQ 3.765625 14.9375 3.765625 33.5 \r\nQ 3.765625 54.25 11.421875 63.671875 \r\nQ 18.109375 71.875 29.4375 71.875 \r\nQ 37.890625 71.875 43.28125 67.140625 \r\nQ 48.6875 62.40625 49.75 54.046875 \r\nz\r\nM 13.875 23.1875 \r\nQ 13.875 18.65625 15.796875 14.5 \r\nQ 17.71875 10.359375 21.1875 8.171875 \r\nQ 24.65625 6 28.46875 6 \r\nQ 34.03125 6 38.03125 10.484375 \r\nQ 42.046875 14.984375 42.046875 22.703125 \r\nQ 42.046875 30.125 38.078125 34.390625 \r\nQ 34.125 38.671875 28.125 38.671875 \r\nQ 22.171875 38.671875 18.015625 34.390625 \r\nQ 13.875 30.125 13.875 23.1875 \r\nz\r\n\" id=\"ArialMT-54\"/>\r\n       </defs>\r\n       <use xlink:href=\"#ArialMT-54\"/>\r\n      </g>\r\n     </g>\r\n    </g>\r\n    <g id=\"ytick_5\">\r\n     <g id=\"line2d_5\">\r\n      <path clip-path=\"url(#p1cf416add9)\" d=\"M 43.908438 91.950375 \r\nL 272.181165 91.950375 \r\n\" style=\"fill:none;stroke:#cccccc;stroke-linecap:round;\"/>\r\n     </g>\r\n     <g id=\"text_10\">\r\n      <!-- 8 -->\r\n      <g style=\"fill:#262626;\" transform=\"translate(28.291406 95.887171)scale(0.11 -0.11)\">\r\n       <defs>\r\n        <path d=\"M 17.671875 38.8125 \r\nQ 12.203125 40.828125 9.5625 44.53125 \r\nQ 6.9375 48.25 6.9375 53.421875 \r\nQ 6.9375 61.234375 12.546875 66.546875 \r\nQ 18.171875 71.875 27.484375 71.875 \r\nQ 36.859375 71.875 42.578125 66.421875 \r\nQ 48.296875 60.984375 48.296875 53.171875 \r\nQ 48.296875 48.1875 45.671875 44.5 \r\nQ 43.0625 40.828125 37.75 38.8125 \r\nQ 44.34375 36.671875 47.78125 31.875 \r\nQ 51.21875 27.09375 51.21875 20.453125 \r\nQ 51.21875 11.28125 44.71875 5.03125 \r\nQ 38.234375 -1.21875 27.640625 -1.21875 \r\nQ 17.046875 -1.21875 10.546875 5.046875 \r\nQ 4.046875 11.328125 4.046875 20.703125 \r\nQ 4.046875 27.6875 7.59375 32.390625 \r\nQ 11.140625 37.109375 17.671875 38.8125 \r\nz\r\nM 15.921875 53.71875 \r\nQ 15.921875 48.640625 19.1875 45.40625 \r\nQ 22.46875 42.1875 27.6875 42.1875 \r\nQ 32.765625 42.1875 36.015625 45.375 \r\nQ 39.265625 48.578125 39.265625 53.21875 \r\nQ 39.265625 58.0625 35.90625 61.359375 \r\nQ 32.5625 64.65625 27.59375 64.65625 \r\nQ 22.5625 64.65625 19.234375 61.421875 \r\nQ 15.921875 58.203125 15.921875 53.71875 \r\nz\r\nM 13.09375 20.65625 \r\nQ 13.09375 16.890625 14.875 13.375 \r\nQ 16.65625 9.859375 20.171875 7.921875 \r\nQ 23.6875 6 27.734375 6 \r\nQ 34.03125 6 38.125 10.046875 \r\nQ 42.234375 14.109375 42.234375 20.359375 \r\nQ 42.234375 26.703125 38.015625 30.859375 \r\nQ 33.796875 35.015625 27.4375 35.015625 \r\nQ 21.234375 35.015625 17.15625 30.90625 \r\nQ 13.09375 26.8125 13.09375 20.65625 \r\nz\r\n\" id=\"ArialMT-56\"/>\r\n       </defs>\r\n       <use xlink:href=\"#ArialMT-56\"/>\r\n      </g>\r\n     </g>\r\n    </g>\r\n    <g id=\"ytick_6\">\r\n     <g id=\"line2d_6\">\r\n      <path clip-path=\"url(#p1cf416add9)\" d=\"M 43.908438 59.639375 \r\nL 272.181165 59.639375 \r\n\" style=\"fill:none;stroke:#cccccc;stroke-linecap:round;\"/>\r\n     </g>\r\n     <g id=\"text_11\">\r\n      <!-- 10 -->\r\n      <g style=\"fill:#262626;\" transform=\"translate(22.174375 63.576172)scale(0.11 -0.11)\">\r\n       <defs>\r\n        <path d=\"M 37.25 0 \r\nL 28.46875 0 \r\nL 28.46875 56 \r\nQ 25.296875 52.984375 20.140625 49.953125 \r\nQ 14.984375 46.921875 10.890625 45.40625 \r\nL 10.890625 53.90625 \r\nQ 18.265625 57.375 23.78125 62.296875 \r\nQ 29.296875 67.234375 31.59375 71.875 \r\nL 37.25 71.875 \r\nz\r\n\" id=\"ArialMT-49\"/>\r\n       </defs>\r\n       <use xlink:href=\"#ArialMT-49\"/>\r\n       <use x=\"55.615234\" xlink:href=\"#ArialMT-48\"/>\r\n      </g>\r\n     </g>\r\n    </g>\r\n    <g id=\"text_12\">\r\n     <!-- Total score of VRSQ -->\r\n     <g style=\"fill:#262626;\" transform=\"translate(15.789375 194.004061)rotate(-90)scale(0.12 -0.12)\">\r\n      <defs>\r\n       <path d=\"M 25.921875 0 \r\nL 25.921875 63.140625 \r\nL 2.34375 63.140625 \r\nL 2.34375 71.578125 \r\nL 59.078125 71.578125 \r\nL 59.078125 63.140625 \r\nL 35.40625 63.140625 \r\nL 35.40625 0 \r\nz\r\n\" id=\"ArialMT-84\"/>\r\n       <path d=\"M 8.6875 0 \r\nL 8.6875 45.015625 \r\nL 0.921875 45.015625 \r\nL 0.921875 51.859375 \r\nL 8.6875 51.859375 \r\nL 8.6875 57.375 \r\nQ 8.6875 62.59375 9.625 65.140625 \r\nQ 10.890625 68.5625 14.078125 70.671875 \r\nQ 17.28125 72.796875 23.046875 72.796875 \r\nQ 26.765625 72.796875 31.25 71.921875 \r\nL 29.9375 64.265625 \r\nQ 27.203125 64.75 24.75 64.75 \r\nQ 20.75 64.75 19.09375 63.03125 \r\nQ 17.4375 61.328125 17.4375 56.640625 \r\nL 17.4375 51.859375 \r\nL 27.546875 51.859375 \r\nL 27.546875 45.015625 \r\nL 17.4375 45.015625 \r\nL 17.4375 0 \r\nz\r\n\" id=\"ArialMT-102\"/>\r\n       <path d=\"M 7.859375 0 \r\nL 7.859375 71.578125 \r\nL 39.59375 71.578125 \r\nQ 49.171875 71.578125 54.140625 69.640625 \r\nQ 59.125 67.71875 62.109375 62.828125 \r\nQ 65.09375 57.953125 65.09375 52.046875 \r\nQ 65.09375 44.4375 60.15625 39.203125 \r\nQ 55.21875 33.984375 44.921875 32.5625 \r\nQ 48.6875 30.765625 50.640625 29 \r\nQ 54.78125 25.203125 58.5 19.484375 \r\nL 70.953125 0 \r\nL 59.03125 0 \r\nL 49.5625 14.890625 \r\nQ 45.40625 21.34375 42.71875 24.75 \r\nQ 40.046875 28.171875 37.921875 29.53125 \r\nQ 35.796875 30.90625 33.59375 31.453125 \r\nQ 31.984375 31.78125 28.328125 31.78125 \r\nL 17.328125 31.78125 \r\nL 17.328125 0 \r\nz\r\nM 17.328125 39.984375 \r\nL 37.703125 39.984375 \r\nQ 44.1875 39.984375 47.84375 41.328125 \r\nQ 51.515625 42.671875 53.421875 45.625 \r\nQ 55.328125 48.578125 55.328125 52.046875 \r\nQ 55.328125 57.125 51.640625 60.390625 \r\nQ 47.953125 63.671875 39.984375 63.671875 \r\nL 17.328125 63.671875 \r\nz\r\n\" id=\"ArialMT-82\"/>\r\n       <path d=\"M 4.5 23 \r\nL 13.421875 23.78125 \r\nQ 14.0625 18.40625 16.375 14.96875 \r\nQ 18.703125 11.53125 23.578125 9.40625 \r\nQ 28.46875 7.28125 34.578125 7.28125 \r\nQ 39.984375 7.28125 44.140625 8.890625 \r\nQ 48.296875 10.5 50.3125 13.296875 \r\nQ 52.34375 16.109375 52.34375 19.4375 \r\nQ 52.34375 22.796875 50.390625 25.3125 \r\nQ 48.4375 27.828125 43.953125 29.546875 \r\nQ 41.0625 30.671875 31.203125 33.03125 \r\nQ 21.34375 35.40625 17.390625 37.5 \r\nQ 12.25 40.1875 9.734375 44.15625 \r\nQ 7.234375 48.140625 7.234375 53.078125 \r\nQ 7.234375 58.5 10.296875 63.203125 \r\nQ 13.375 67.921875 19.28125 70.359375 \r\nQ 25.203125 72.796875 32.421875 72.796875 \r\nQ 40.375 72.796875 46.453125 70.234375 \r\nQ 52.546875 67.671875 55.8125 62.6875 \r\nQ 59.078125 57.71875 59.328125 51.421875 \r\nL 50.25 50.734375 \r\nQ 49.515625 57.515625 45.28125 60.984375 \r\nQ 41.0625 64.453125 32.8125 64.453125 \r\nQ 24.21875 64.453125 20.28125 61.296875 \r\nQ 16.359375 58.15625 16.359375 53.71875 \r\nQ 16.359375 49.859375 19.140625 47.359375 \r\nQ 21.875 44.875 33.421875 42.265625 \r\nQ 44.96875 39.65625 49.265625 37.703125 \r\nQ 55.515625 34.8125 58.484375 30.390625 \r\nQ 61.46875 25.984375 61.46875 20.21875 \r\nQ 61.46875 14.5 58.203125 9.4375 \r\nQ 54.9375 4.390625 48.796875 1.578125 \r\nQ 42.671875 -1.21875 35.015625 -1.21875 \r\nQ 25.296875 -1.21875 18.71875 1.609375 \r\nQ 12.15625 4.4375 8.421875 10.125 \r\nQ 4.6875 15.828125 4.5 23 \r\nz\r\n\" id=\"ArialMT-83\"/>\r\n       <path d=\"M 61.96875 7.671875 \r\nQ 68.5625 3.125 74.125 1.03125 \r\nL 71.34375 -5.5625 \r\nQ 63.625 -2.78125 55.953125 3.21875 \r\nQ 48 -1.21875 38.375 -1.21875 \r\nQ 28.65625 -1.21875 20.75 3.46875 \r\nQ 12.84375 8.15625 8.5625 16.640625 \r\nQ 4.296875 25.140625 4.296875 35.796875 \r\nQ 4.296875 46.390625 8.59375 55.078125 \r\nQ 12.890625 63.765625 20.828125 68.3125 \r\nQ 28.765625 72.859375 38.578125 72.859375 \r\nQ 48.484375 72.859375 56.4375 68.140625 \r\nQ 64.40625 63.421875 68.578125 54.953125 \r\nQ 72.75 46.484375 72.75 35.84375 \r\nQ 72.75 27 70.0625 19.9375 \r\nQ 67.390625 12.890625 61.96875 7.671875 \r\nz\r\nM 41.109375 19.78125 \r\nQ 49.3125 17.484375 54.640625 12.9375 \r\nQ 62.984375 20.5625 62.984375 35.84375 \r\nQ 62.984375 44.53125 60.03125 51.015625 \r\nQ 57.078125 57.515625 51.390625 61.109375 \r\nQ 45.703125 64.703125 38.625 64.703125 \r\nQ 28.03125 64.703125 21.046875 57.453125 \r\nQ 14.0625 50.203125 14.0625 35.796875 \r\nQ 14.0625 21.828125 20.96875 14.359375 \r\nQ 27.875 6.890625 38.625 6.890625 \r\nQ 43.703125 6.890625 48.1875 8.796875 \r\nQ 43.75 11.671875 38.8125 12.890625 \r\nz\r\n\" id=\"ArialMT-81\"/>\r\n      </defs>\r\n      <use xlink:href=\"#ArialMT-84\"/>\r\n      <use x=\"49.958984\" xlink:href=\"#ArialMT-111\"/>\r\n      <use x=\"105.574219\" xlink:href=\"#ArialMT-116\"/>\r\n      <use x=\"133.357422\" xlink:href=\"#ArialMT-97\"/>\r\n      <use x=\"188.972656\" xlink:href=\"#ArialMT-108\"/>\r\n      <use x=\"211.189453\" xlink:href=\"#ArialMT-32\"/>\r\n      <use x=\"238.972656\" xlink:href=\"#ArialMT-115\"/>\r\n      <use x=\"288.972656\" xlink:href=\"#ArialMT-99\"/>\r\n      <use x=\"338.972656\" xlink:href=\"#ArialMT-111\"/>\r\n      <use x=\"394.587891\" xlink:href=\"#ArialMT-114\"/>\r\n      <use x=\"427.888672\" xlink:href=\"#ArialMT-101\"/>\r\n      <use x=\"483.503906\" xlink:href=\"#ArialMT-32\"/>\r\n      <use x=\"511.287109\" xlink:href=\"#ArialMT-111\"/>\r\n      <use x=\"566.902344\" xlink:href=\"#ArialMT-102\"/>\r\n      <use x=\"594.685547\" xlink:href=\"#ArialMT-32\"/>\r\n      <use x=\"622.46875\" xlink:href=\"#ArialMT-86\"/>\r\n      <use x=\"689.167969\" xlink:href=\"#ArialMT-82\"/>\r\n      <use x=\"761.384766\" xlink:href=\"#ArialMT-83\"/>\r\n      <use x=\"828.083984\" xlink:href=\"#ArialMT-81\"/>\r\n     </g>\r\n    </g>\r\n   </g>\r\n   <g id=\"patch_3\">\r\n    <path clip-path=\"url(#p1cf416add9)\" d=\"M 49.615256 221.194374 \r\nL 95.269801 221.194374 \r\nL 95.269801 107.063584 \r\nL 49.615256 107.063584 \r\nz\r\n\" style=\"fill:#3a2f4f;stroke:#333333;stroke-linejoin:miter;stroke-width:1.5;\"/>\r\n   </g>\r\n   <g id=\"patch_4\">\r\n    <path clip-path=\"url(#p1cf416add9)\" d=\"M 106.683437 221.194374 \r\nL 152.337983 221.194374 \r\nL 152.337983 145.107181 \r\nL 106.683437 145.107181 \r\nz\r\n\" style=\"fill:#45608f;stroke:#333333;stroke-linejoin:miter;stroke-width:1.5;\"/>\r\n   </g>\r\n   <g id=\"patch_5\">\r\n    <path clip-path=\"url(#p1cf416add9)\" d=\"M 163.751619 221.194374 \r\nL 209.406165 221.194374 \r\nL 209.406165 119.049923 \r\nL 163.751619 119.049923 \r\nz\r\n\" style=\"fill:#438d9a;stroke:#333333;stroke-linejoin:miter;stroke-width:1.5;\"/>\r\n   </g>\r\n   <g id=\"patch_6\">\r\n    <path clip-path=\"url(#p1cf416add9)\" d=\"M 220.819801 221.194374 \r\nL 266.474347 221.194374 \r\nL 266.474347 148.755197 \r\nL 220.819801 148.755197 \r\nz\r\n\" style=\"fill:#6ec1a7;stroke:#333333;stroke-linejoin:miter;stroke-width:1.5;\"/>\r\n   </g>\r\n   <g id=\"line2d_7\">\r\n    <path clip-path=\"url(#p1cf416add9)\" d=\"M 72.442528 141.459165 \r\nL 72.442528 65.880088 \r\n\" style=\"fill:none;stroke:#333333;stroke-linecap:round;stroke-width:1.5;\"/>\r\n   </g>\r\n   <g id=\"line2d_8\">\r\n    <path clip-path=\"url(#p1cf416add9)\" d=\"M 129.51071 166.474132 \r\nL 129.51071 123.740229 \r\n\" style=\"fill:none;stroke:#333333;stroke-linecap:round;stroke-width:1.5;\"/>\r\n   </g>\r\n   <g id=\"line2d_9\">\r\n    <path clip-path=\"url(#p1cf416add9)\" d=\"M 186.578892 153.497618 \r\nL 186.578892 82.035588 \r\n\" style=\"fill:none;stroke:#333333;stroke-linecap:round;stroke-width:1.5;\"/>\r\n   </g>\r\n   <g id=\"line2d_10\">\r\n    <path clip-path=\"url(#p1cf416add9)\" d=\"M 243.647074 171.698612 \r\nL 243.647074 124.769491 \r\n\" style=\"fill:none;stroke:#333333;stroke-linecap:round;stroke-width:1.5;\"/>\r\n   </g>\r\n   <g id=\"line2d_11\">\r\n    <path d=\"M 72.442528 54.746975 \r\nL 72.442528 51.485375 \r\nL 129.51071 51.485375 \r\nL 129.51071 54.746975 \r\n\" style=\"fill:none;stroke:#333333;stroke-linecap:round;stroke-width:1.5;\"/>\r\n   </g>\r\n   <g id=\"line2d_12\">\r\n    <path d=\"M 72.442528 38.591475 \r\nL 72.442528 35.329875 \r\nL 186.578892 35.329875 \r\nL 186.578892 38.591475 \r\n\" style=\"fill:none;stroke:#333333;stroke-linecap:round;stroke-width:1.5;\"/>\r\n   </g>\r\n   <g id=\"line2d_13\">\r\n    <path d=\"M 72.442528 22.435975 \r\nL 72.442528 19.174375 \r\nL 243.647074 19.174375 \r\nL 243.647074 22.435975 \r\n\" style=\"fill:none;stroke:#333333;stroke-linecap:round;stroke-width:1.5;\"/>\r\n   </g>\r\n   <g id=\"patch_7\">\r\n    <path d=\"M 43.908438 221.194374 \r\nL 43.908438 58.114374 \r\n\" style=\"fill:none;stroke:#cccccc;stroke-linecap:square;stroke-linejoin:miter;stroke-width:1.25;\"/>\r\n   </g>\r\n   <g id=\"patch_8\">\r\n    <path d=\"M 272.181165 221.194374 \r\nL 272.181165 58.114374 \r\n\" style=\"fill:none;stroke:#cccccc;stroke-linecap:square;stroke-linejoin:miter;stroke-width:1.25;\"/>\r\n   </g>\r\n   <g id=\"patch_9\">\r\n    <path d=\"M 43.908438 221.194374 \r\nL 272.181165 221.194374 \r\n\" style=\"fill:none;stroke:#cccccc;stroke-linecap:square;stroke-linejoin:miter;stroke-width:1.25;\"/>\r\n   </g>\r\n   <g id=\"patch_10\">\r\n    <path d=\"M 43.908438 58.114374 \r\nL 272.181165 58.114374 \r\n\" style=\"fill:none;stroke:#cccccc;stroke-linecap:square;stroke-linejoin:miter;stroke-width:1.25;\"/>\r\n   </g>\r\n   <g id=\"text_13\">\r\n    <!-- ** -->\r\n    <g style=\"fill:#262626;\" transform=\"translate(96.305994 48.100375)scale(0.12 -0.12)\">\r\n     <defs>\r\n      <path d=\"M 3.125 58.453125 \r\nL 5.375 65.375 \r\nQ 13.140625 62.640625 16.65625 60.640625 \r\nQ 15.71875 69.484375 15.671875 72.796875 \r\nL 22.75 72.796875 \r\nQ 22.609375 67.96875 21.625 60.6875 \r\nQ 26.65625 63.234375 33.15625 65.375 \r\nL 35.40625 58.453125 \r\nQ 29.203125 56.390625 23.25 55.71875 \r\nQ 26.21875 53.125 31.640625 46.484375 \r\nL 25.78125 42.328125 \r\nQ 22.953125 46.1875 19.09375 52.828125 \r\nQ 15.484375 45.953125 12.75 42.328125 \r\nL 6.984375 46.484375 \r\nQ 12.640625 53.46875 15.09375 55.71875 \r\nQ 8.796875 56.9375 3.125 58.453125 \r\nz\r\n\" id=\"ArialMT-42\"/>\r\n     </defs>\r\n     <use xlink:href=\"#ArialMT-42\"/>\r\n     <use x=\"38.916016\" xlink:href=\"#ArialMT-42\"/>\r\n    </g>\r\n   </g>\r\n   <g id=\"text_14\">\r\n    <!-- ns -->\r\n    <g style=\"fill:#262626;\" transform=\"translate(123.174148 31.944875)scale(0.12 -0.12)\">\r\n     <use xlink:href=\"#ArialMT-110\"/>\r\n     <use x=\"55.615234\" xlink:href=\"#ArialMT-115\"/>\r\n    </g>\r\n   </g>\r\n   <g id=\"text_15\">\r\n    <!-- ** -->\r\n    <g style=\"fill:#262626;\" transform=\"translate(153.374176 15.789375)scale(0.12 -0.12)\">\r\n     <use xlink:href=\"#ArialMT-42\"/>\r\n     <use x=\"38.916016\" xlink:href=\"#ArialMT-42\"/>\r\n    </g>\r\n   </g>\r\n  </g>\r\n  <g id=\"axes_2\">\r\n   <g id=\"patch_11\">\r\n    <path d=\"M 317.83571 221.194374 \r\nL 546.108437 221.194374 \r\nL 546.108437 58.114374 \r\nL 317.83571 58.114374 \r\nz\r\n\" style=\"fill:#ffffff;\"/>\r\n   </g>\r\n   <g id=\"matplotlib.axis_3\">\r\n    <g id=\"xtick_5\">\r\n     <g id=\"text_16\">\r\n      <!-- Control -->\r\n      <g style=\"fill:#262626;\" transform=\"translate(328.640895 238.567968)scale(0.11 -0.11)\">\r\n       <use xlink:href=\"#ArialMT-67\"/>\r\n       <use x=\"72.216797\" xlink:href=\"#ArialMT-111\"/>\r\n       <use x=\"127.832031\" xlink:href=\"#ArialMT-110\"/>\r\n       <use x=\"183.447266\" xlink:href=\"#ArialMT-116\"/>\r\n       <use x=\"211.230469\" xlink:href=\"#ArialMT-114\"/>\r\n       <use x=\"244.53125\" xlink:href=\"#ArialMT-111\"/>\r\n       <use x=\"300.146484\" xlink:href=\"#ArialMT-108\"/>\r\n      </g>\r\n     </g>\r\n    </g>\r\n    <g id=\"xtick_6\">\r\n     <g id=\"text_17\">\r\n      <!-- Haptic -->\r\n      <g style=\"fill:#262626;\" transform=\"translate(387.84892 238.567968)scale(0.11 -0.11)\">\r\n       <use xlink:href=\"#ArialMT-72\"/>\r\n       <use x=\"72.216797\" xlink:href=\"#ArialMT-97\"/>\r\n       <use x=\"127.832031\" xlink:href=\"#ArialMT-112\"/>\r\n       <use x=\"183.447266\" xlink:href=\"#ArialMT-116\"/>\r\n       <use x=\"211.230469\" xlink:href=\"#ArialMT-105\"/>\r\n       <use x=\"233.447266\" xlink:href=\"#ArialMT-99\"/>\r\n      </g>\r\n     </g>\r\n    </g>\r\n    <g id=\"xtick_7\">\r\n     <g id=\"text_18\">\r\n      <!-- Visual -->\r\n      <g style=\"fill:#262626;\" transform=\"translate(445.622649 238.567968)scale(0.11 -0.11)\">\r\n       <use xlink:href=\"#ArialMT-86\"/>\r\n       <use x=\"64.949219\" xlink:href=\"#ArialMT-105\"/>\r\n       <use x=\"87.166016\" xlink:href=\"#ArialMT-115\"/>\r\n       <use x=\"137.166016\" xlink:href=\"#ArialMT-117\"/>\r\n       <use x=\"192.78125\" xlink:href=\"#ArialMT-97\"/>\r\n       <use x=\"248.396484\" xlink:href=\"#ArialMT-108\"/>\r\n      </g>\r\n     </g>\r\n    </g>\r\n    <g id=\"xtick_8\">\r\n     <g id=\"text_19\">\r\n      <!-- Multi-modality -->\r\n      <g style=\"fill:#262626;\" transform=\"translate(483.652237 238.567968)scale(0.11 -0.11)\">\r\n       <use xlink:href=\"#ArialMT-77\"/>\r\n       <use x=\"83.300781\" xlink:href=\"#ArialMT-117\"/>\r\n       <use x=\"138.916016\" xlink:href=\"#ArialMT-108\"/>\r\n       <use x=\"161.132812\" xlink:href=\"#ArialMT-116\"/>\r\n       <use x=\"188.916016\" xlink:href=\"#ArialMT-105\"/>\r\n       <use x=\"211.132812\" xlink:href=\"#ArialMT-45\"/>\r\n       <use x=\"244.433594\" xlink:href=\"#ArialMT-109\"/>\r\n       <use x=\"327.734375\" xlink:href=\"#ArialMT-111\"/>\r\n       <use x=\"383.349609\" xlink:href=\"#ArialMT-100\"/>\r\n       <use x=\"438.964844\" xlink:href=\"#ArialMT-97\"/>\r\n       <use x=\"494.580078\" xlink:href=\"#ArialMT-108\"/>\r\n       <use x=\"516.796875\" xlink:href=\"#ArialMT-105\"/>\r\n       <use x=\"539.013672\" xlink:href=\"#ArialMT-116\"/>\r\n       <use x=\"566.796875\" xlink:href=\"#ArialMT-121\"/>\r\n      </g>\r\n     </g>\r\n    </g>\r\n    <g id=\"text_20\">\r\n     <!-- Paired analysis between conditions (Greater) -->\r\n     <g style=\"fill:#262626;\" transform=\"translate(312.252386 253.618749)scale(0.12 -0.12)\">\r\n      <use xlink:href=\"#ArialMT-80\"/>\r\n      <use x=\"66.699219\" xlink:href=\"#ArialMT-97\"/>\r\n      <use x=\"122.314453\" xlink:href=\"#ArialMT-105\"/>\r\n      <use x=\"144.53125\" xlink:href=\"#ArialMT-114\"/>\r\n      <use x=\"177.832031\" xlink:href=\"#ArialMT-101\"/>\r\n      <use x=\"233.447266\" xlink:href=\"#ArialMT-100\"/>\r\n      <use x=\"289.0625\" xlink:href=\"#ArialMT-32\"/>\r\n      <use x=\"316.845703\" xlink:href=\"#ArialMT-97\"/>\r\n      <use x=\"372.460938\" xlink:href=\"#ArialMT-110\"/>\r\n      <use x=\"428.076172\" xlink:href=\"#ArialMT-97\"/>\r\n      <use x=\"483.691406\" xlink:href=\"#ArialMT-108\"/>\r\n      <use x=\"505.908203\" xlink:href=\"#ArialMT-121\"/>\r\n      <use x=\"555.908203\" xlink:href=\"#ArialMT-115\"/>\r\n      <use x=\"605.908203\" xlink:href=\"#ArialMT-105\"/>\r\n      <use x=\"628.125\" xlink:href=\"#ArialMT-115\"/>\r\n      <use x=\"678.125\" xlink:href=\"#ArialMT-32\"/>\r\n      <use x=\"705.908203\" xlink:href=\"#ArialMT-98\"/>\r\n      <use x=\"761.523438\" xlink:href=\"#ArialMT-101\"/>\r\n      <use x=\"817.138672\" xlink:href=\"#ArialMT-116\"/>\r\n      <use x=\"844.921875\" xlink:href=\"#ArialMT-119\"/>\r\n      <use x=\"917.138672\" xlink:href=\"#ArialMT-101\"/>\r\n      <use x=\"972.753906\" xlink:href=\"#ArialMT-101\"/>\r\n      <use x=\"1028.369141\" xlink:href=\"#ArialMT-110\"/>\r\n      <use x=\"1083.984375\" xlink:href=\"#ArialMT-32\"/>\r\n      <use x=\"1111.767578\" xlink:href=\"#ArialMT-99\"/>\r\n      <use x=\"1161.767578\" xlink:href=\"#ArialMT-111\"/>\r\n      <use x=\"1217.382812\" xlink:href=\"#ArialMT-110\"/>\r\n      <use x=\"1272.998047\" xlink:href=\"#ArialMT-100\"/>\r\n      <use x=\"1328.613281\" xlink:href=\"#ArialMT-105\"/>\r\n      <use x=\"1350.830078\" xlink:href=\"#ArialMT-116\"/>\r\n      <use x=\"1378.613281\" xlink:href=\"#ArialMT-105\"/>\r\n      <use x=\"1400.830078\" xlink:href=\"#ArialMT-111\"/>\r\n      <use x=\"1456.445312\" xlink:href=\"#ArialMT-110\"/>\r\n      <use x=\"1512.060547\" xlink:href=\"#ArialMT-115\"/>\r\n      <use x=\"1562.060547\" xlink:href=\"#ArialMT-32\"/>\r\n      <use x=\"1589.84375\" xlink:href=\"#ArialMT-40\"/>\r\n      <use x=\"1623.144531\" xlink:href=\"#ArialMT-71\"/>\r\n      <use x=\"1700.927734\" xlink:href=\"#ArialMT-114\"/>\r\n      <use x=\"1734.228516\" xlink:href=\"#ArialMT-101\"/>\r\n      <use x=\"1789.84375\" xlink:href=\"#ArialMT-97\"/>\r\n      <use x=\"1845.458984\" xlink:href=\"#ArialMT-116\"/>\r\n      <use x=\"1873.242188\" xlink:href=\"#ArialMT-101\"/>\r\n      <use x=\"1928.857422\" xlink:href=\"#ArialMT-114\"/>\r\n      <use x=\"1962.158203\" xlink:href=\"#ArialMT-41\"/>\r\n     </g>\r\n    </g>\r\n   </g>\r\n   <g id=\"matplotlib.axis_4\">\r\n    <g id=\"ytick_7\">\r\n     <g id=\"line2d_14\">\r\n      <path clip-path=\"url(#p4a6230baad)\" d=\"M 317.83571 221.194374 \r\nL 546.108437 221.194374 \r\n\" style=\"fill:none;stroke:#cccccc;stroke-linecap:round;\"/>\r\n     </g>\r\n     <g id=\"text_21\">\r\n      <!-- 0 -->\r\n      <g style=\"fill:#262626;\" transform=\"translate(302.218679 225.131171)scale(0.11 -0.11)\">\r\n       <use xlink:href=\"#ArialMT-48\"/>\r\n      </g>\r\n     </g>\r\n    </g>\r\n    <g id=\"ytick_8\">\r\n     <g id=\"line2d_15\">\r\n      <path clip-path=\"url(#p4a6230baad)\" d=\"M 317.83571 189.096088 \r\nL 546.108437 189.096088 \r\n\" style=\"fill:none;stroke:#cccccc;stroke-linecap:round;\"/>\r\n     </g>\r\n     <g id=\"text_22\">\r\n      <!-- 2 -->\r\n      <g style=\"fill:#262626;\" transform=\"translate(302.218679 193.032885)scale(0.11 -0.11)\">\r\n       <use xlink:href=\"#ArialMT-50\"/>\r\n      </g>\r\n     </g>\r\n    </g>\r\n    <g id=\"ytick_9\">\r\n     <g id=\"line2d_16\">\r\n      <path clip-path=\"url(#p4a6230baad)\" d=\"M 317.83571 156.997802 \r\nL 546.108437 156.997802 \r\n\" style=\"fill:none;stroke:#cccccc;stroke-linecap:round;\"/>\r\n     </g>\r\n     <g id=\"text_23\">\r\n      <!-- 4 -->\r\n      <g style=\"fill:#262626;\" transform=\"translate(302.218679 160.934599)scale(0.11 -0.11)\">\r\n       <use xlink:href=\"#ArialMT-52\"/>\r\n      </g>\r\n     </g>\r\n    </g>\r\n    <g id=\"ytick_10\">\r\n     <g id=\"line2d_17\">\r\n      <path clip-path=\"url(#p4a6230baad)\" d=\"M 317.83571 124.899517 \r\nL 546.108437 124.899517 \r\n\" style=\"fill:none;stroke:#cccccc;stroke-linecap:round;\"/>\r\n     </g>\r\n     <g id=\"text_24\">\r\n      <!-- 6 -->\r\n      <g style=\"fill:#262626;\" transform=\"translate(302.218679 128.836314)scale(0.11 -0.11)\">\r\n       <use xlink:href=\"#ArialMT-54\"/>\r\n      </g>\r\n     </g>\r\n    </g>\r\n    <g id=\"ytick_11\">\r\n     <g id=\"line2d_18\">\r\n      <path clip-path=\"url(#p4a6230baad)\" d=\"M 317.83571 92.801231 \r\nL 546.108437 92.801231 \r\n\" style=\"fill:none;stroke:#cccccc;stroke-linecap:round;\"/>\r\n     </g>\r\n     <g id=\"text_25\">\r\n      <!-- 8 -->\r\n      <g style=\"fill:#262626;\" transform=\"translate(302.218679 96.738028)scale(0.11 -0.11)\">\r\n       <use xlink:href=\"#ArialMT-56\"/>\r\n      </g>\r\n     </g>\r\n    </g>\r\n    <g id=\"ytick_12\">\r\n     <g id=\"line2d_19\">\r\n      <path clip-path=\"url(#p4a6230baad)\" d=\"M 317.83571 60.702945 \r\nL 546.108437 60.702945 \r\n\" style=\"fill:none;stroke:#cccccc;stroke-linecap:round;\"/>\r\n     </g>\r\n     <g id=\"text_26\">\r\n      <!-- 10 -->\r\n      <g style=\"fill:#262626;\" transform=\"translate(296.101648 64.639742)scale(0.11 -0.11)\">\r\n       <use xlink:href=\"#ArialMT-49\"/>\r\n       <use x=\"55.615234\" xlink:href=\"#ArialMT-48\"/>\r\n      </g>\r\n     </g>\r\n    </g>\r\n   </g>\r\n   <g id=\"patch_12\">\r\n    <path clip-path=\"url(#p4a6230baad)\" d=\"M 323.542528 221.194374 \r\nL 369.197074 221.194374 \r\nL 369.197074 107.814945 \r\nL 323.542528 107.814945 \r\nz\r\n\" style=\"fill:#3a2f4f;stroke:#333333;stroke-linejoin:miter;stroke-width:1.5;\"/>\r\n   </g>\r\n   <g id=\"patch_13\">\r\n    <path clip-path=\"url(#p4a6230baad)\" d=\"M 380.61071 221.194374 \r\nL 426.265256 221.194374 \r\nL 426.265256 145.608088 \r\nL 380.61071 145.608088 \r\nz\r\n\" style=\"fill:#45608f;stroke:#333333;stroke-linejoin:miter;stroke-width:1.5;\"/>\r\n   </g>\r\n   <g id=\"patch_14\">\r\n    <path clip-path=\"url(#p4a6230baad)\" d=\"M 437.678892 221.194374 \r\nL 483.333437 221.194374 \r\nL 483.333437 119.722374 \r\nL 437.678892 119.722374 \r\nz\r\n\" style=\"fill:#438d9a;stroke:#333333;stroke-linejoin:miter;stroke-width:1.5;\"/>\r\n   </g>\r\n   <g id=\"patch_15\">\r\n    <path clip-path=\"url(#p4a6230baad)\" d=\"M 494.747074 221.194374 \r\nL 540.401619 221.194374 \r\nL 540.401619 149.232088 \r\nL 494.747074 149.232088 \r\nz\r\n\" style=\"fill:#6ec1a7;stroke:#333333;stroke-linejoin:miter;stroke-width:1.5;\"/>\r\n   </g>\r\n   <g id=\"line2d_20\">\r\n    <path clip-path=\"url(#p4a6230baad)\" d=\"M 346.369801 144.054945 \r\nL 346.369801 65.880088 \r\n\" style=\"fill:none;stroke:#333333;stroke-linecap:round;stroke-width:1.5;\"/>\r\n   </g>\r\n   <g id=\"line2d_21\">\r\n    <path clip-path=\"url(#p4a6230baad)\" d=\"M 403.437983 166.329602 \r\nL 403.437983 123.333431 \r\n\" style=\"fill:none;stroke:#333333;stroke-linecap:round;stroke-width:1.5;\"/>\r\n   </g>\r\n   <g id=\"line2d_22\">\r\n    <path clip-path=\"url(#p4a6230baad)\" d=\"M 460.506165 152.856088 \r\nL 460.506165 84.517802 \r\n\" style=\"fill:none;stroke:#333333;stroke-linecap:round;stroke-width:1.5;\"/>\r\n   </g>\r\n   <g id=\"line2d_23\">\r\n    <path clip-path=\"url(#p4a6230baad)\" d=\"M 517.574347 171.493802 \r\nL 517.574347 125.417231 \r\n\" style=\"fill:none;stroke:#333333;stroke-linecap:round;stroke-width:1.5;\"/>\r\n   </g>\r\n   <g id=\"line2d_24\">\r\n    <path d=\"M 403.437983 55.810545 \r\nL 403.437983 52.548945 \r\nL 460.506165 52.548945 \r\nL 460.506165 55.810545 \r\n\" style=\"fill:none;stroke:#333333;stroke-linecap:round;stroke-width:1.5;\"/>\r\n   </g>\r\n   <g id=\"line2d_25\">\r\n    <path d=\"M 460.506165 39.761402 \r\nL 460.506165 36.499802 \r\nL 517.574347 36.499802 \r\nL 517.574347 39.761402 \r\n\" style=\"fill:none;stroke:#333333;stroke-linecap:round;stroke-width:1.5;\"/>\r\n   </g>\r\n   <g id=\"line2d_26\">\r\n    <path d=\"M 403.437983 23.712259 \r\nL 403.437983 20.450659 \r\nL 517.574347 20.450659 \r\nL 517.574347 23.712259 \r\n\" style=\"fill:none;stroke:#333333;stroke-linecap:round;stroke-width:1.5;\"/>\r\n   </g>\r\n   <g id=\"patch_16\">\r\n    <path d=\"M 317.83571 221.194374 \r\nL 317.83571 58.114374 \r\n\" style=\"fill:none;stroke:#cccccc;stroke-linecap:square;stroke-linejoin:miter;stroke-width:1.25;\"/>\r\n   </g>\r\n   <g id=\"patch_17\">\r\n    <path d=\"M 546.108437 221.194374 \r\nL 546.108437 58.114374 \r\n\" style=\"fill:none;stroke:#cccccc;stroke-linecap:square;stroke-linejoin:miter;stroke-width:1.25;\"/>\r\n   </g>\r\n   <g id=\"patch_18\">\r\n    <path d=\"M 317.83571 221.194374 \r\nL 546.108437 221.194374 \r\n\" style=\"fill:none;stroke:#cccccc;stroke-linecap:square;stroke-linejoin:miter;stroke-width:1.25;\"/>\r\n   </g>\r\n   <g id=\"patch_19\">\r\n    <path d=\"M 317.83571 58.114374 \r\nL 546.108437 58.114374 \r\n\" style=\"fill:none;stroke:#cccccc;stroke-linecap:square;stroke-linejoin:miter;stroke-width:1.25;\"/>\r\n   </g>\r\n   <g id=\"text_27\">\r\n    <!-- ns -->\r\n    <g style=\"fill:#262626;\" transform=\"translate(425.635511 49.163945)scale(0.12 -0.12)\">\r\n     <use xlink:href=\"#ArialMT-110\"/>\r\n     <use x=\"55.615234\" xlink:href=\"#ArialMT-115\"/>\r\n    </g>\r\n   </g>\r\n   <g id=\"text_28\">\r\n    <!-- * -->\r\n    <g style=\"fill:#262626;\" transform=\"translate(486.704943 33.114802)scale(0.12 -0.12)\">\r\n     <use xlink:href=\"#ArialMT-42\"/>\r\n    </g>\r\n   </g>\r\n   <g id=\"text_29\">\r\n    <!-- ns -->\r\n    <g style=\"fill:#262626;\" transform=\"translate(454.169602 17.065659)scale(0.12 -0.12)\">\r\n     <use xlink:href=\"#ArialMT-110\"/>\r\n     <use x=\"55.615234\" xlink:href=\"#ArialMT-115\"/>\r\n    </g>\r\n   </g>\r\n  </g>\r\n </g>\r\n <defs>\r\n  <clipPath id=\"p1cf416add9\">\r\n   <rect height=\"163.08\" width=\"228.272727\" x=\"43.908438\" y=\"58.114374\"/>\r\n  </clipPath>\r\n  <clipPath id=\"p4a6230baad\">\r\n   <rect height=\"163.08\" width=\"228.272727\" x=\"317.83571\" y=\"58.114374\"/>\r\n  </clipPath>\r\n </defs>\r\n</svg>\r\n",
      "text/plain": [
       "<Figure size 900x300 with 2 Axes>"
      ]
     },
     "metadata": {},
     "output_type": "display_data"
    }
   ],
   "source": [
    "### pair analysis visualization \n",
    "FileName= './survey/1-35/Clean/spatial31plot.csv'\n",
    "df_grouped = pd.read_csv(FileName)\n",
    "df_grouped.head()\n",
    "\n",
    "## subplot\n",
    "fig, axes = plt.subplots(1,2, figsize=(9,3), dpi=100)\n",
    "# fig.suptitle('Bigger 1 row x 2 columns axes with no data')\n",
    "# axes[0].set_title('Paired Analysis (Greater)')\n",
    "\n",
    "\n",
    "sns.set(style = 'whitegrid')\n",
    "x = 'Conditions'\n",
    "y = 'Total'\n",
    "hue = 'Conditions'\n",
    "order = ['Control', 'Haptic', 'Visual', 'Multi-modality']\n",
    "# order = ['Time_Junction_B', 'Time_Junction_H', 'Time_Junction_V', 'Time_Junction_M']\n",
    "\n",
    "axes[0] = sns.barplot(ax = axes[0], data=df_grouped, x=x, y=y,\n",
    "                palette = 'mako',\n",
    "                linewidth=1.5,\n",
    "                errcolor=\"0.2\",errwidth =1.5,\n",
    "                edgecolor=\".2\",\n",
    "                # facecolor=(1, 1, 1, 0)\n",
    "                )\n",
    "test_results = add_stat_annotation(ax =axes[0],plot='barplot', data=df_grouped, x=x, y=y,\n",
    "                                   box_pairs=[(\"Control\", \"Haptic\"), (\"Control\", \"Visual\"), (\"Control\", \"Multi-modality\")],\n",
    "                                   test='Wilcoxon', comparisons_correction=None, \n",
    "                                   text_format='star', loc='outside', verbose=1,\n",
    "                                #    line_offset_to_box= -1,\n",
    "                                #    line_offset= 1,\n",
    "                                #    text_offset = -1,\n",
    "                                   stats_params={'alternative': 'greater'})\n",
    "axes[0].set(xlabel='Paired analysis between conditions (Greater)', ylabel='VRSQ score')\n",
    "axes[1] = sns.barplot(ax = axes[1],data=df_grouped, x=x, y=y,\n",
    "                palette = 'mako',\n",
    "                linewidth=1.5,\n",
    "                errcolor=\"0.2\",errwidth =1.5,\n",
    "                edgecolor=\".2\",\n",
    "                # facecolor=(1, 1, 1, 0)\n",
    "                )\n",
    "test_results = add_stat_annotation(ax =axes[1],plot='barplot', data=df_grouped, x=x, y=y,\n",
    "                                   box_pairs=[(\"Haptic\", \"Visual\"), (\"Haptic\", \"Multi-modality\"), (\"Visual\", \"Multi-modality\")],\n",
    "                                   test='Wilcoxon', comparisons_correction=None, \n",
    "                                   text_format='star', loc='outside', verbose=1,\n",
    "                                #    line_offset_to_box= -0.5,\n",
    "                                #    line_offset= -0.5,\n",
    "                                   stats_params={'alternative': 'greater'})\n",
    "axes[1].set(xlabel='Paired analysis between conditions (Greater)', ylabel='')"
   ]
  },
  {
   "cell_type": "code",
   "execution_count": 37,
   "metadata": {},
   "outputs": [
    {
     "data": {
      "text/html": [
       "<div>\n",
       "<style scoped>\n",
       "    .dataframe tbody tr th:only-of-type {\n",
       "        vertical-align: middle;\n",
       "    }\n",
       "\n",
       "    .dataframe tbody tr th {\n",
       "        vertical-align: top;\n",
       "    }\n",
       "\n",
       "    .dataframe thead th {\n",
       "        text-align: right;\n",
       "    }\n",
       "</style>\n",
       "<table border=\"1\" class=\"dataframe\">\n",
       "  <thead>\n",
       "    <tr style=\"text-align: right;\">\n",
       "      <th></th>\n",
       "      <th>Subject</th>\n",
       "      <th>General</th>\n",
       "      <th>Fatigue</th>\n",
       "      <th>Eyestrain</th>\n",
       "      <th>focusing</th>\n",
       "      <th>Headache</th>\n",
       "      <th>Fullness</th>\n",
       "      <th>Blurred</th>\n",
       "      <th>Dizzy</th>\n",
       "      <th>Vertigo</th>\n",
       "      <th>...</th>\n",
       "      <th>General_M</th>\n",
       "      <th>Fatigue_M</th>\n",
       "      <th>Eyestrain_M</th>\n",
       "      <th>focusing_M</th>\n",
       "      <th>Headache_M</th>\n",
       "      <th>Fullness_M</th>\n",
       "      <th>Blurred_M</th>\n",
       "      <th>Dizzy_M</th>\n",
       "      <th>Vertigo_M</th>\n",
       "      <th>test</th>\n",
       "    </tr>\n",
       "  </thead>\n",
       "  <tbody>\n",
       "    <tr>\n",
       "      <th>0</th>\n",
       "      <td>5</td>\n",
       "      <td>None</td>\n",
       "      <td>None</td>\n",
       "      <td>Slight</td>\n",
       "      <td>None</td>\n",
       "      <td>None</td>\n",
       "      <td>None</td>\n",
       "      <td>Slight</td>\n",
       "      <td>None</td>\n",
       "      <td>Slight</td>\n",
       "      <td>...</td>\n",
       "      <td>None</td>\n",
       "      <td>None</td>\n",
       "      <td>None</td>\n",
       "      <td>None</td>\n",
       "      <td>None</td>\n",
       "      <td>Slight</td>\n",
       "      <td>Slight</td>\n",
       "      <td>None</td>\n",
       "      <td>None</td>\n",
       "      <td>0</td>\n",
       "    </tr>\n",
       "    <tr>\n",
       "      <th>1</th>\n",
       "      <td>6</td>\n",
       "      <td>Moderate</td>\n",
       "      <td>Slight</td>\n",
       "      <td>None</td>\n",
       "      <td>Slight</td>\n",
       "      <td>None</td>\n",
       "      <td>Moderate</td>\n",
       "      <td>None</td>\n",
       "      <td>None</td>\n",
       "      <td>Severe</td>\n",
       "      <td>...</td>\n",
       "      <td>Slight</td>\n",
       "      <td>None</td>\n",
       "      <td>None</td>\n",
       "      <td>Slight</td>\n",
       "      <td>None</td>\n",
       "      <td>Slight</td>\n",
       "      <td>None</td>\n",
       "      <td>None</td>\n",
       "      <td>Moderate</td>\n",
       "      <td>2</td>\n",
       "    </tr>\n",
       "    <tr>\n",
       "      <th>2</th>\n",
       "      <td>7</td>\n",
       "      <td>Slight</td>\n",
       "      <td>Slight</td>\n",
       "      <td>None</td>\n",
       "      <td>None</td>\n",
       "      <td>None</td>\n",
       "      <td>None</td>\n",
       "      <td>None</td>\n",
       "      <td>None</td>\n",
       "      <td>None</td>\n",
       "      <td>...</td>\n",
       "      <td>None</td>\n",
       "      <td>Slight</td>\n",
       "      <td>Moderate</td>\n",
       "      <td>None</td>\n",
       "      <td>Slight</td>\n",
       "      <td>None</td>\n",
       "      <td>Slight</td>\n",
       "      <td>None</td>\n",
       "      <td>Slight</td>\n",
       "      <td>1</td>\n",
       "    </tr>\n",
       "    <tr>\n",
       "      <th>3</th>\n",
       "      <td>8</td>\n",
       "      <td>Slight</td>\n",
       "      <td>Moderate</td>\n",
       "      <td>Slight</td>\n",
       "      <td>Slight</td>\n",
       "      <td>Slight</td>\n",
       "      <td>Slight</td>\n",
       "      <td>None</td>\n",
       "      <td>None</td>\n",
       "      <td>None</td>\n",
       "      <td>...</td>\n",
       "      <td>Slight</td>\n",
       "      <td>Moderate</td>\n",
       "      <td>Slight</td>\n",
       "      <td>Slight</td>\n",
       "      <td>Slight</td>\n",
       "      <td>Slight</td>\n",
       "      <td>Slight</td>\n",
       "      <td>None</td>\n",
       "      <td>None</td>\n",
       "      <td>1</td>\n",
       "    </tr>\n",
       "    <tr>\n",
       "      <th>4</th>\n",
       "      <td>9</td>\n",
       "      <td>None</td>\n",
       "      <td>None</td>\n",
       "      <td>None</td>\n",
       "      <td>None</td>\n",
       "      <td>None</td>\n",
       "      <td>None</td>\n",
       "      <td>None</td>\n",
       "      <td>None</td>\n",
       "      <td>None</td>\n",
       "      <td>...</td>\n",
       "      <td>None</td>\n",
       "      <td>None</td>\n",
       "      <td>None</td>\n",
       "      <td>None</td>\n",
       "      <td>None</td>\n",
       "      <td>None</td>\n",
       "      <td>None</td>\n",
       "      <td>None</td>\n",
       "      <td>None</td>\n",
       "      <td>0</td>\n",
       "    </tr>\n",
       "  </tbody>\n",
       "</table>\n",
       "<p>5 rows × 38 columns</p>\n",
       "</div>"
      ],
      "text/plain": [
       "   Subject   General   Fatigue Eyestrain focusing Headache  Fullness Blurred  \\\n",
       "0        5      None      None    Slight     None     None      None  Slight   \n",
       "1        6  Moderate    Slight      None   Slight     None  Moderate    None   \n",
       "2        7    Slight    Slight      None     None     None      None    None   \n",
       "3        8    Slight  Moderate    Slight   Slight   Slight    Slight    None   \n",
       "4        9      None      None      None     None     None      None    None   \n",
       "\n",
       "  Dizzy Vertigo  ... General_M Fatigue_M Eyestrain_M focusing_M Headache_M  \\\n",
       "0  None  Slight  ...      None      None        None       None       None   \n",
       "1  None  Severe  ...    Slight      None        None     Slight       None   \n",
       "2  None    None  ...      None    Slight    Moderate       None     Slight   \n",
       "3  None    None  ...    Slight  Moderate      Slight     Slight     Slight   \n",
       "4  None    None  ...      None      None        None       None       None   \n",
       "\n",
       "  Fullness_M Blurred_M Dizzy_M Vertigo_M test  \n",
       "0     Slight    Slight    None      None    0  \n",
       "1     Slight      None    None  Moderate    2  \n",
       "2       None    Slight    None    Slight    1  \n",
       "3     Slight    Slight    None      None    1  \n",
       "4       None      None    None      None    0  \n",
       "\n",
       "[5 rows x 38 columns]"
      ]
     },
     "execution_count": 37,
     "metadata": {},
     "output_type": "execute_result"
    }
   ],
   "source": [
    "### for test \n",
    "ordered_satisfaction  = ['None', 'Slight', 'Moderate', 'Severe']\n",
    "\n",
    "df_raw['test']  = pd.Categorical(df_raw['General'], categories=ordered_satisfaction, ordered=True)\n",
    "df_raw.test.cat.codes\n",
    "\n",
    "cat_columns = df_raw.select_dtypes(['category']).columns\n",
    "\n",
    "df_raw[cat_columns] = df_raw[cat_columns].apply(lambda x: x.cat.codes)\n",
    "df_raw.head()\n",
    "\n",
    "dict( zip( df_raw.test.cat.codes, df_raw['test'] ) )\n",
    "df_raw.test"
   ]
  },
  {
   "cell_type": "code",
   "execution_count": 15,
   "metadata": {},
   "outputs": [
    {
     "data": {
      "text/plain": [
       "0         None\n",
       "1     Moderate\n",
       "2       Slight\n",
       "3       Slight\n",
       "4         None\n",
       "5         None\n",
       "6     Moderate\n",
       "7         None\n",
       "8       Slight\n",
       "9         None\n",
       "10      Slight\n",
       "11    Moderate\n",
       "12      Slight\n",
       "13      Slight\n",
       "14    Moderate\n",
       "15        None\n",
       "16        None\n",
       "17        None\n",
       "18        None\n",
       "19        None\n",
       "20        None\n",
       "21        None\n",
       "22        None\n",
       "23      Slight\n",
       "24    Moderate\n",
       "25      Severe\n",
       "26        None\n",
       "27        None\n",
       "28    Moderate\n",
       "29      Severe\n",
       "30        None\n",
       "Name: test, dtype: category\n",
       "Categories (4, object): ['None' < 'Slight' < 'Moderate' < 'Severe']"
      ]
     },
     "execution_count": 15,
     "metadata": {},
     "output_type": "execute_result"
    }
   ],
   "source": []
  },
  {
   "cell_type": "code",
   "execution_count": 10,
   "metadata": {},
   "outputs": [],
   "source": [
    "##### Benjamini-Hochberg Procedure ######\n",
    "def fdr(p_vals):\n",
    "\n",
    "    from scipy.stats import rankdata\n",
    "    ranked_p_values = rankdata(p_vals)\n",
    "    print(ranked_p_values)\n",
    "    print(p_vals)\n",
    "    print(p_vals *len(p_vals))\n",
    "    fdr = p_vals * len(p_vals) / ranked_p_values\n",
    "    fdr[fdr > 1] = 1\n",
    "\n",
    "    return fdr"
   ]
  },
  {
   "cell_type": "code",
   "execution_count": 14,
   "metadata": {},
   "outputs": [
    {
     "name": "stdout",
     "output_type": "stream",
     "text": [
      "(array([ True,  True, False, False,  True, False]), array([0.001626 , 0.033484 , 0.092976 , 0.1002648, 0.017697 , 0.208035 ]), 0.008512444610847103, 0.008333333333333333)\n"
     ]
    }
   ],
   "source": [
    "import statsmodels.stats.multitest as smt\n",
    "# time \n",
    "p = [0.000271,0.016742,0.061984,0.083554,0.005899,0.208035]\n",
    "pvals_corr = smt.multipletests(p,method = \"fdr_bh\" )\n",
    "print(pvals_corr)"
   ]
  },
  {
   "cell_type": "code",
   "execution_count": 31,
   "metadata": {},
   "outputs": [
    {
     "name": "stdout",
     "output_type": "stream",
     "text": [
      "(array([False, False, False, False, False, False]), array([0.095322 , 0.903155 , 0.149787 , 0.383524 , 0.4535955, 0.8699496]), 0.008512444610847103, 0.008333333333333333)\n"
     ]
    }
   ],
   "source": [
    "# accuracy a\n",
    "p = [0.015887,0.903155,0.049929,0.191762,0.302397,0.724958]\n",
    "pvals_corr = smt.multipletests(p,alpha = 0.05,method = \"fdr_bh\" )\n",
    "print(pvals_corr)"
   ]
  },
  {
   "cell_type": "code",
   "execution_count": 40,
   "metadata": {},
   "outputs": [
    {
     "name": "stdout",
     "output_type": "stream",
     "text": [
      "(array([False, False, False, False, False, False]), array([0.168573 , 0.4066065, 0.168573 , 0.4066065, 0.7578876, 0.907466 ]), 0.008512444610847103, 0.008333333333333333)\n"
     ]
    }
   ],
   "source": [
    "# accuracy b\n",
    "p = [0.056191,0.271071,0.031668,0.232535,0.631573,0.907466]\n",
    "pvals_corr = smt.multipletests(p,alpha = 0.05,method = \"fdr_bh\" )\n",
    "print(pvals_corr)"
   ]
  },
  {
   "cell_type": "code",
   "execution_count": 41,
   "metadata": {},
   "outputs": [
    {
     "name": "stdout",
     "output_type": "stream",
     "text": [
      "(array([ True, False,  True, False, False, False]), array([0.016839 , 0.2493792, 0.016839 , 0.905634 , 0.222921 , 0.076036 ]), 0.008512444610847103, 0.008333333333333333)\n"
     ]
    }
   ],
   "source": [
    "# VRSQ\n",
    "p = [0.005613,0.207816,0.005289,0.905634,0.148614,0.038018]\n",
    "pvals_corr = smt.multipletests(p,alpha = 0.05,method = \"fdr_bh\" )\n",
    "print(pvals_corr)"
   ]
  },
  {
   "cell_type": "code",
   "execution_count": 42,
   "metadata": {},
   "outputs": [
    {
     "name": "stdout",
     "output_type": "stream",
     "text": [
      "(array([False, False,  True, False, False,  True]), array([0.055292, 0.394432, 0.034194, 0.142227, 0.394432, 0.038121]), 0.008512444610847103, 0.008333333333333333)\n"
     ]
    }
   ],
   "source": [
    "# NASA TLX total\n",
    "p = [0.027646,0.394432,0.005699,0.094818,0.370891,0.012707]\n",
    "pvals_corr = smt.multipletests(p,alpha = 0.05,method = \"fdr_bh\" )\n",
    "print(pvals_corr)"
   ]
  },
  {
   "cell_type": "code",
   "execution_count": 43,
   "metadata": {},
   "outputs": [
    {
     "name": "stdout",
     "output_type": "stream",
     "text": [
      "(array([ True,  True,  True,  True, False,  True]), array([0.001156 , 0.0140355, 0.000336 , 0.0388872, 0.190228 , 0.000837 ]), 0.008512444610847103, 0.008333333333333333)\n"
     ]
    }
   ],
   "source": [
    "# NASA TLX mental \n",
    "p = [0.000578,0.009357,0.000056,0.032406,0.190228,0.000279]\n",
    "pvals_corr = smt.multipletests(p,alpha = 0.05,method = \"fdr_bh\" )\n",
    "print(pvals_corr)"
   ]
  },
  {
   "cell_type": "code",
   "execution_count": 44,
   "metadata": {},
   "outputs": [
    {
     "name": "stdout",
     "output_type": "stream",
     "text": [
      "(array([False, False, False, False, False, False]), array([0.486444, 0.771369, 0.486444, 0.71739 , 0.486444, 0.486444]), 0.008512444610847103, 0.008333333333333333)\n"
     ]
    }
   ],
   "source": [
    "# NASA TLX physical \n",
    "p = [0.324296,0.771369,0.237097,0.597825 ,0.289527 ,0.105078 ]\n",
    "pvals_corr = smt.multipletests(p,alpha = 0.05,method = \"fdr_bh\" )\n",
    "print(pvals_corr)"
   ]
  },
  {
   "cell_type": "code",
   "execution_count": 45,
   "metadata": {},
   "outputs": [
    {
     "name": "stdout",
     "output_type": "stream",
     "text": [
      "(array([False, False, False, False, False, False]), array([0.4049304, 0.4049304, 0.4049304, 0.138255 , 0.584696 , 0.138255 ]), 0.008512444610847103, 0.008333333333333333)\n"
     ]
    }
   ],
   "source": [
    "# NASA TLX time \n",
    "p = [0.337442,0.337442,0.327212,0.025789 ,0.584696 ,0.046085 ]\n",
    "pvals_corr = smt.multipletests(p,alpha = 0.05,method = \"fdr_bh\" )\n",
    "print(pvals_corr)"
   ]
  },
  {
   "cell_type": "code",
   "execution_count": 46,
   "metadata": {},
   "outputs": [
    {
     "name": "stdout",
     "output_type": "stream",
     "text": [
      "(array([ True, False,  True, False, False, False]), array([0.029811 , 0.165794 , 0.029811 , 0.170472 , 0.8872404, 0.977299 ]), 0.008512444610847103, 0.008333333333333333)\n"
     ]
    }
   ],
   "source": [
    "# NASA TLX success  \n",
    "p = [0.009937,0.082897,0.006645,0.113648 ,0.739367 ,0.977299 ]\n",
    "pvals_corr = smt.multipletests(p,alpha = 0.05,method = \"fdr_bh\" )\n",
    "print(pvals_corr)"
   ]
  },
  {
   "cell_type": "code",
   "execution_count": 47,
   "metadata": {},
   "outputs": [
    {
     "name": "stdout",
     "output_type": "stream",
     "text": [
      "(array([ True,  True,  True, False, False,  True]), array([0.003075 , 0.0179355, 0.001248 , 0.947747 , 0.2384652, 0.005168 ]), 0.008512444610847103, 0.008333333333333333)\n"
     ]
    }
   ],
   "source": [
    "# NASA TLX hard  \n",
    "p = [0.001025,0.011957,0.000208,0.947747 ,0.198721 ,0.002584 ]\n",
    "pvals_corr = smt.multipletests(p,alpha = 0.05,method = \"fdr_bh\" )\n",
    "print(pvals_corr)"
   ]
  },
  {
   "cell_type": "code",
   "execution_count": 48,
   "metadata": {},
   "outputs": [
    {
     "name": "stdout",
     "output_type": "stream",
     "text": [
      "(array([False, False, False, False, False, False]), array([0.101072 , 0.2985564, 0.083754 , 0.735773 , 0.254568 , 0.101072 ]), 0.008512444610847103, 0.008333333333333333)\n"
     ]
    }
   ],
   "source": [
    "# NASA TLX irritated  \n",
    "p = [0.049425,0.248797,0.013959,0.735773,0.169712,0.050536 ]\n",
    "pvals_corr = smt.multipletests(p,alpha = 0.05,method = \"fdr_bh\" )\n",
    "print(pvals_corr)"
   ]
  },
  {
   "cell_type": "code",
   "execution_count": 11,
   "metadata": {},
   "outputs": [
    {
     "name": "stdout",
     "output_type": "stream",
     "text": [
      "[1. 3. 4. 5. 2. 6.]\n",
      "[0.000271, 0.016742, 0.061984, 0.083554, 0.005899, 0.208035]\n",
      "[0.000271, 0.016742, 0.061984, 0.083554, 0.005899, 0.208035, 0.000271, 0.016742, 0.061984, 0.083554, 0.005899, 0.208035, 0.000271, 0.016742, 0.061984, 0.083554, 0.005899, 0.208035, 0.000271, 0.016742, 0.061984, 0.083554, 0.005899, 0.208035, 0.000271, 0.016742, 0.061984, 0.083554, 0.005899, 0.208035, 0.000271, 0.016742, 0.061984, 0.083554, 0.005899, 0.208035]\n"
     ]
    },
    {
     "ename": "ValueError",
     "evalue": "operands could not be broadcast together with shapes (36,) (6,) ",
     "output_type": "error",
     "traceback": [
      "\u001b[1;31m---------------------------------------------------------------------------\u001b[0m",
      "\u001b[1;31mValueError\u001b[0m                                Traceback (most recent call last)",
      "\u001b[1;32m<ipython-input-11-1852ac82fced>\u001b[0m in \u001b[0;36m<module>\u001b[1;34m\u001b[0m\n\u001b[0;32m      1\u001b[0m \u001b[0mtime\u001b[0m \u001b[1;33m=\u001b[0m \u001b[1;33m[\u001b[0m\u001b[1;36m0.000271\u001b[0m\u001b[1;33m,\u001b[0m\u001b[1;36m0.016742\u001b[0m\u001b[1;33m,\u001b[0m\u001b[1;36m0.061984\u001b[0m\u001b[1;33m,\u001b[0m\u001b[1;36m0.083554\u001b[0m\u001b[1;33m,\u001b[0m\u001b[1;36m0.005899\u001b[0m\u001b[1;33m,\u001b[0m\u001b[1;36m0.208035\u001b[0m\u001b[1;33m]\u001b[0m\u001b[1;33m\u001b[0m\u001b[1;33m\u001b[0m\u001b[0m\n\u001b[1;32m----> 2\u001b[1;33m \u001b[0mfdr_time\u001b[0m \u001b[1;33m=\u001b[0m \u001b[0mfdr\u001b[0m\u001b[1;33m(\u001b[0m\u001b[0mtime\u001b[0m\u001b[1;33m)\u001b[0m\u001b[1;33m\u001b[0m\u001b[1;33m\u001b[0m\u001b[0m\n\u001b[0m",
      "\u001b[1;32m<ipython-input-10-520adf19fd79>\u001b[0m in \u001b[0;36mfdr\u001b[1;34m(p_vals)\u001b[0m\n\u001b[0;32m      7\u001b[0m     \u001b[0mprint\u001b[0m\u001b[1;33m(\u001b[0m\u001b[0mp_vals\u001b[0m\u001b[1;33m)\u001b[0m\u001b[1;33m\u001b[0m\u001b[1;33m\u001b[0m\u001b[0m\n\u001b[0;32m      8\u001b[0m     \u001b[0mprint\u001b[0m\u001b[1;33m(\u001b[0m\u001b[0mp_vals\u001b[0m \u001b[1;33m*\u001b[0m\u001b[0mlen\u001b[0m\u001b[1;33m(\u001b[0m\u001b[0mp_vals\u001b[0m\u001b[1;33m)\u001b[0m\u001b[1;33m)\u001b[0m\u001b[1;33m\u001b[0m\u001b[1;33m\u001b[0m\u001b[0m\n\u001b[1;32m----> 9\u001b[1;33m     \u001b[0mfdr\u001b[0m \u001b[1;33m=\u001b[0m \u001b[0mp_vals\u001b[0m \u001b[1;33m*\u001b[0m \u001b[0mlen\u001b[0m\u001b[1;33m(\u001b[0m\u001b[0mp_vals\u001b[0m\u001b[1;33m)\u001b[0m \u001b[1;33m/\u001b[0m \u001b[0mranked_p_values\u001b[0m\u001b[1;33m\u001b[0m\u001b[1;33m\u001b[0m\u001b[0m\n\u001b[0m\u001b[0;32m     10\u001b[0m     \u001b[0mfdr\u001b[0m\u001b[1;33m[\u001b[0m\u001b[0mfdr\u001b[0m \u001b[1;33m>\u001b[0m \u001b[1;36m1\u001b[0m\u001b[1;33m]\u001b[0m \u001b[1;33m=\u001b[0m \u001b[1;36m1\u001b[0m\u001b[1;33m\u001b[0m\u001b[1;33m\u001b[0m\u001b[0m\n\u001b[0;32m     11\u001b[0m \u001b[1;33m\u001b[0m\u001b[0m\n",
      "\u001b[1;31mValueError\u001b[0m: operands could not be broadcast together with shapes (36,) (6,) "
     ]
    }
   ],
   "source": [
    "time = [0.000271,0.016742,0.061984,0.083554,0.005899,0.208035]\n",
    "fdr_time = fdr(time)"
   ]
  }
 ],
 "metadata": {
  "kernelspec": {
   "display_name": "Python 3.8.8 ('base')",
   "language": "python",
   "name": "python3"
  },
  "language_info": {
   "codemirror_mode": {
    "name": "ipython",
    "version": 3
   },
   "file_extension": ".py",
   "mimetype": "text/x-python",
   "name": "python",
   "nbconvert_exporter": "python",
   "pygments_lexer": "ipython3",
   "version": "3.8.8"
  },
  "orig_nbformat": 2,
  "vscode": {
   "interpreter": {
    "hash": "08b67431c17cfbaf5d75b8f833cc91109bdedee36e8bc657eba4f68a2229c720"
   }
  }
 },
 "nbformat": 4,
 "nbformat_minor": 2
}
